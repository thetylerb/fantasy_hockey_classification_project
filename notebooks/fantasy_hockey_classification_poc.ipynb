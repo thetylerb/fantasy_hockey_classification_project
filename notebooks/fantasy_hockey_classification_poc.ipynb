{
 "cells": [
  {
   "cell_type": "markdown",
   "id": "afc648b3",
   "metadata": {},
   "source": [
    "\n",
    "# Fantasy Hockey Classification — Starter Notebook\n",
    "\n",
    "This notebook builds two **classification** models using your multi-year fantasy hockey data:\n",
    "\n",
    "1. **Skaters:** Predict whether a player will score **≥ 20 goals** (`is_20_goals`).\n",
    "2. **Goalies:** Predict whether a goalie will have a **save% above the seasonal median** (`is_above_median_sv`).\n",
    "\n",
    "We'll cover: loading, cleaning (including **deduplication**), EDA, feature engineering, model training, evaluation, and insights.\n"
   ]
  },
  {
   "cell_type": "code",
   "execution_count": 1,
   "id": "9b9da091",
   "metadata": {},
   "outputs": [],
   "source": [
    "\n",
    "import os\n",
    "import numpy as np\n",
    "import pandas as pd\n",
    "from pathlib import Path\n",
    "\n",
    "# Visualization\n",
    "import matplotlib.pyplot as plt\n",
    "import plotly.express as px\n",
    "\n",
    "# Modeling\n",
    "from sklearn.model_selection import train_test_split\n",
    "from sklearn.preprocessing import StandardScaler, OneHotEncoder\n",
    "from sklearn.compose import ColumnTransformer\n",
    "from sklearn.pipeline import Pipeline\n",
    "from sklearn.metrics import (accuracy_score, precision_score, recall_score, f1_score, roc_auc_score,\n",
    "                             ConfusionMatrixDisplay, RocCurveDisplay)\n",
    "from sklearn.linear_model import LogisticRegression\n",
    "from sklearn.neighbors import KNeighborsClassifier\n",
    "from sklearn.svm import SVC\n",
    "from sklearn.ensemble import RandomForestClassifier\n",
    "\n",
    "pd.set_option('display.max_columns', 120)\n",
    "pd.set_option('display.width', 120)\n"
   ]
  },
  {
   "cell_type": "markdown",
   "id": "a461ce95",
   "metadata": {},
   "source": [
    "## Sanity Check"
   ]
  },
  {
   "cell_type": "code",
   "execution_count": 11,
   "id": "097ce07b",
   "metadata": {},
   "outputs": [
    {
     "name": "stdout",
     "output_type": "stream",
     "text": [
      "3.11.5 | packaged by Anaconda, Inc. | (main, Sep 11 2023, 13:26:23) [MSC v.1916 64 bit (AMD64)]\n",
      "pandas: 2.3.2\n",
      "sklearn: 1.7.2\n"
     ]
    }
   ],
   "source": [
    "import sys, pandas, sklearn\n",
    "print(sys.version)\n",
    "print(\"pandas:\", pandas.__version__)\n",
    "print(\"sklearn:\", sklearn.__version__)\n"
   ]
  },
  {
   "cell_type": "markdown",
   "id": "df90206b",
   "metadata": {},
   "source": [
    "## Data paths"
   ]
  },
  {
   "cell_type": "code",
   "execution_count": 3,
   "id": "e1421a9e",
   "metadata": {},
   "outputs": [
    {
     "name": "stdout",
     "output_type": "stream",
     "text": [
      "BASE_DIR: C:\\Users\\puppy\\Desktop\\fantasy_hockey_classification_project\n",
      "DATA_DIR: C:\\Users\\puppy\\Desktop\\fantasy_hockey_classification_project\\data\n",
      "CSV files I see: ['22_23_goalie_stats.csv', '22_23_player_stats.csv', '23_24_goalie_stats.csv', '23_24_player_stats.csv', '24_25_goalie_stats.csv', '24_25_player_stats.csv', 'goalies_combined_3yr.csv', 'goalie_stats_template.csv', 'skaters_combined_3yr.csv']\n"
     ]
    }
   ],
   "source": [
    "from pathlib import Path\n",
    "\n",
    "# Start relative to the notebook\n",
    "BASE_DIR = Path.cwd()\n",
    "if BASE_DIR.name == \"notebooks\":\n",
    "    BASE_DIR = BASE_DIR.parent\n",
    "\n",
    "DATA_DIR = BASE_DIR / \"data\"\n",
    "\n",
    "print(\"BASE_DIR:\", BASE_DIR.resolve())\n",
    "print(\"DATA_DIR:\", DATA_DIR.resolve())\n",
    "print(\"CSV files I see:\", [p.name for p in DATA_DIR.glob(\"*.csv\")])\n",
    "\n",
    "DATA_PATHS = {\n",
    "    \"skaters\": [\n",
    "        DATA_DIR / \"22_23_player_stats.csv\",\n",
    "        DATA_DIR / \"23_24_player_stats.csv\",\n",
    "        DATA_DIR / \"24_25_player_stats.csv\",\n",
    "        DATA_DIR / \"skaters_combined_3yr.csv\",\n",
    "    ],\n",
    "    \"goalies\": [\n",
    "        DATA_DIR / \"22_23_goalie_stats.csv\",\n",
    "        DATA_DIR / \"23_24_goalie_stats.csv\",\n",
    "        DATA_DIR / \"24_25_goalie_stats.csv\",\n",
    "        DATA_DIR / \"goalies_combined_3yr.csv\",\n",
    "    ],\n",
    "}\n"
   ]
  },
  {
   "cell_type": "markdown",
   "id": "f2039a9f",
   "metadata": {},
   "source": [
    "## Load & combine"
   ]
  },
  {
   "cell_type": "code",
   "execution_count": 4,
   "id": "3b7ad272",
   "metadata": {},
   "outputs": [
    {
     "name": "stdout",
     "output_type": "stream",
     "text": [
      "Skaters shape: (7022, 53)\n",
      "Goalies shape: (689, 41)\n"
     ]
    },
    {
     "data": {
      "text/html": [
       "<div>\n",
       "<style scoped>\n",
       "    .dataframe tbody tr th:only-of-type {\n",
       "        vertical-align: middle;\n",
       "    }\n",
       "\n",
       "    .dataframe tbody tr th {\n",
       "        vertical-align: top;\n",
       "    }\n",
       "\n",
       "    .dataframe thead th {\n",
       "        text-align: right;\n",
       "    }\n",
       "</style>\n",
       "<table border=\"1\" class=\"dataframe\">\n",
       "  <thead>\n",
       "    <tr style=\"text-align: right;\">\n",
       "      <th></th>\n",
       "      <th>Unnamed: 0</th>\n",
       "      <th>Unnamed: 1</th>\n",
       "      <th>Unnamed: 2</th>\n",
       "      <th>Unnamed: 3</th>\n",
       "      <th>Unnamed: 4</th>\n",
       "      <th>Unnamed: 5</th>\n",
       "      <th>Scoring</th>\n",
       "      <th>Scoring.1</th>\n",
       "      <th>Scoring.2</th>\n",
       "      <th>Unnamed: 9</th>\n",
       "      <th>Unnamed: 10</th>\n",
       "      <th>Goals</th>\n",
       "      <th>Goals.1</th>\n",
       "      <th>Goals.2</th>\n",
       "      <th>Goals.3</th>\n",
       "      <th>Assists</th>\n",
       "      <th>Assists.1</th>\n",
       "      <th>Assists.2</th>\n",
       "      <th>Shots</th>\n",
       "      <th>Shots.1</th>\n",
       "      <th>Shots.2</th>\n",
       "      <th>Ice Time</th>\n",
       "      <th>Ice Time.1</th>\n",
       "      <th>Faceoffs</th>\n",
       "      <th>Faceoffs.1</th>\n",
       "      <th>Faceoffs.2</th>\n",
       "      <th>Unnamed: 26</th>\n",
       "      <th>Unnamed: 27</th>\n",
       "      <th>Unnamed: 28</th>\n",
       "      <th>Unnamed: 29</th>\n",
       "      <th>Unnamed: 30</th>\n",
       "      <th>-additional</th>\n",
       "      <th>source_file</th>\n",
       "      <th>Player</th>\n",
       "      <th>Age</th>\n",
       "      <th>Team</th>\n",
       "      <th>Pos</th>\n",
       "      <th>GP</th>\n",
       "      <th>G</th>\n",
       "      <th>A</th>\n",
       "      <th>SOG</th>\n",
       "      <th>BLK</th>\n",
       "      <th>HIT</th>\n",
       "      <th>EVG</th>\n",
       "      <th>PPG</th>\n",
       "      <th>SHG</th>\n",
       "      <th>EVA</th>\n",
       "      <th>PPA</th>\n",
       "      <th>SHA</th>\n",
       "      <th>PPP</th>\n",
       "      <th>SHP</th>\n",
       "      <th>FP_skaters</th>\n",
       "      <th>Season</th>\n",
       "    </tr>\n",
       "  </thead>\n",
       "  <tbody>\n",
       "    <tr>\n",
       "      <th>0</th>\n",
       "      <td>Rk</td>\n",
       "      <td>Player</td>\n",
       "      <td>Age</td>\n",
       "      <td>Team</td>\n",
       "      <td>Pos</td>\n",
       "      <td>GP</td>\n",
       "      <td>G</td>\n",
       "      <td>A</td>\n",
       "      <td>PTS</td>\n",
       "      <td>+/-</td>\n",
       "      <td>PIM</td>\n",
       "      <td>EVG</td>\n",
       "      <td>PPG</td>\n",
       "      <td>SHG</td>\n",
       "      <td>GWG</td>\n",
       "      <td>EV</td>\n",
       "      <td>PP</td>\n",
       "      <td>SH</td>\n",
       "      <td>SOG</td>\n",
       "      <td>SPCT</td>\n",
       "      <td>TSA</td>\n",
       "      <td>TOI</td>\n",
       "      <td>ATOI</td>\n",
       "      <td>FOW</td>\n",
       "      <td>FOL</td>\n",
       "      <td>FO%</td>\n",
       "      <td>BLK</td>\n",
       "      <td>HIT</td>\n",
       "      <td>TAKE</td>\n",
       "      <td>GIVE</td>\n",
       "      <td>Awards</td>\n",
       "      <td>-9999</td>\n",
       "      <td>22_23_player_stats.csv</td>\n",
       "      <td>NaN</td>\n",
       "      <td>NaN</td>\n",
       "      <td>NaN</td>\n",
       "      <td>NaN</td>\n",
       "      <td>NaN</td>\n",
       "      <td>NaN</td>\n",
       "      <td>NaN</td>\n",
       "      <td>NaN</td>\n",
       "      <td>NaN</td>\n",
       "      <td>NaN</td>\n",
       "      <td>NaN</td>\n",
       "      <td>NaN</td>\n",
       "      <td>NaN</td>\n",
       "      <td>NaN</td>\n",
       "      <td>NaN</td>\n",
       "      <td>NaN</td>\n",
       "      <td>NaN</td>\n",
       "      <td>NaN</td>\n",
       "      <td>NaN</td>\n",
       "      <td>NaN</td>\n",
       "    </tr>\n",
       "    <tr>\n",
       "      <th>1</th>\n",
       "      <td>1</td>\n",
       "      <td>Connor McDavid</td>\n",
       "      <td>26</td>\n",
       "      <td>EDM</td>\n",
       "      <td>C</td>\n",
       "      <td>82</td>\n",
       "      <td>64</td>\n",
       "      <td>89</td>\n",
       "      <td>153</td>\n",
       "      <td>22</td>\n",
       "      <td>36</td>\n",
       "      <td>39</td>\n",
       "      <td>21</td>\n",
       "      <td>4</td>\n",
       "      <td>11</td>\n",
       "      <td>36</td>\n",
       "      <td>50</td>\n",
       "      <td>3</td>\n",
       "      <td>352</td>\n",
       "      <td>18.2</td>\n",
       "      <td>529</td>\n",
       "      <td>1835:37</td>\n",
       "      <td>22:23</td>\n",
       "      <td>525</td>\n",
       "      <td>486</td>\n",
       "      <td>51.9</td>\n",
       "      <td>40</td>\n",
       "      <td>89</td>\n",
       "      <td>82</td>\n",
       "      <td>77</td>\n",
       "      <td>ASGASnhl-1Byng-16Hart-1Richard-1Ross-1Pearson-1</td>\n",
       "      <td>mcdavco01</td>\n",
       "      <td>22_23_player_stats.csv</td>\n",
       "      <td>NaN</td>\n",
       "      <td>NaN</td>\n",
       "      <td>NaN</td>\n",
       "      <td>NaN</td>\n",
       "      <td>NaN</td>\n",
       "      <td>NaN</td>\n",
       "      <td>NaN</td>\n",
       "      <td>NaN</td>\n",
       "      <td>NaN</td>\n",
       "      <td>NaN</td>\n",
       "      <td>NaN</td>\n",
       "      <td>NaN</td>\n",
       "      <td>NaN</td>\n",
       "      <td>NaN</td>\n",
       "      <td>NaN</td>\n",
       "      <td>NaN</td>\n",
       "      <td>NaN</td>\n",
       "      <td>NaN</td>\n",
       "      <td>NaN</td>\n",
       "      <td>NaN</td>\n",
       "    </tr>\n",
       "    <tr>\n",
       "      <th>2</th>\n",
       "      <td>2</td>\n",
       "      <td>Leon Draisaitl</td>\n",
       "      <td>27</td>\n",
       "      <td>EDM</td>\n",
       "      <td>C</td>\n",
       "      <td>80</td>\n",
       "      <td>52</td>\n",
       "      <td>76</td>\n",
       "      <td>128</td>\n",
       "      <td>7</td>\n",
       "      <td>24</td>\n",
       "      <td>19</td>\n",
       "      <td>32</td>\n",
       "      <td>1</td>\n",
       "      <td>11</td>\n",
       "      <td>45</td>\n",
       "      <td>30</td>\n",
       "      <td>1</td>\n",
       "      <td>247</td>\n",
       "      <td>21.1</td>\n",
       "      <td>423</td>\n",
       "      <td>1738:43</td>\n",
       "      <td>21:44</td>\n",
       "      <td>807</td>\n",
       "      <td>663</td>\n",
       "      <td>54.9</td>\n",
       "      <td>40</td>\n",
       "      <td>66</td>\n",
       "      <td>77</td>\n",
       "      <td>102</td>\n",
       "      <td>ASGASnhl-2ASnhl-10Byng-21Hart-7</td>\n",
       "      <td>draisle01</td>\n",
       "      <td>22_23_player_stats.csv</td>\n",
       "      <td>NaN</td>\n",
       "      <td>NaN</td>\n",
       "      <td>NaN</td>\n",
       "      <td>NaN</td>\n",
       "      <td>NaN</td>\n",
       "      <td>NaN</td>\n",
       "      <td>NaN</td>\n",
       "      <td>NaN</td>\n",
       "      <td>NaN</td>\n",
       "      <td>NaN</td>\n",
       "      <td>NaN</td>\n",
       "      <td>NaN</td>\n",
       "      <td>NaN</td>\n",
       "      <td>NaN</td>\n",
       "      <td>NaN</td>\n",
       "      <td>NaN</td>\n",
       "      <td>NaN</td>\n",
       "      <td>NaN</td>\n",
       "      <td>NaN</td>\n",
       "      <td>NaN</td>\n",
       "    </tr>\n",
       "  </tbody>\n",
       "</table>\n",
       "</div>"
      ],
      "text/plain": [
       "  Unnamed: 0      Unnamed: 1 Unnamed: 2 Unnamed: 3 Unnamed: 4 Unnamed: 5 Scoring Scoring.1 Scoring.2 Unnamed: 9  \\\n",
       "0         Rk          Player        Age       Team        Pos         GP       G         A       PTS        +/-   \n",
       "1          1  Connor McDavid         26        EDM          C         82      64        89       153         22   \n",
       "2          2  Leon Draisaitl         27        EDM          C         80      52        76       128          7   \n",
       "\n",
       "  Unnamed: 10 Goals Goals.1 Goals.2 Goals.3 Assists Assists.1 Assists.2 Shots Shots.1 Shots.2 Ice Time Ice Time.1  \\\n",
       "0         PIM   EVG     PPG     SHG     GWG      EV        PP        SH   SOG    SPCT     TSA      TOI       ATOI   \n",
       "1          36    39      21       4      11      36        50         3   352    18.2     529  1835:37      22:23   \n",
       "2          24    19      32       1      11      45        30         1   247    21.1     423  1738:43      21:44   \n",
       "\n",
       "  Faceoffs Faceoffs.1 Faceoffs.2 Unnamed: 26 Unnamed: 27 Unnamed: 28 Unnamed: 29  \\\n",
       "0      FOW        FOL        FO%         BLK         HIT        TAKE        GIVE   \n",
       "1      525        486       51.9          40          89          82          77   \n",
       "2      807        663       54.9          40          66          77         102   \n",
       "\n",
       "                                       Unnamed: 30 -additional             source_file Player  Age Team  Pos  GP   G  \\\n",
       "0                                           Awards       -9999  22_23_player_stats.csv    NaN  NaN  NaN  NaN NaN NaN   \n",
       "1  ASGASnhl-1Byng-16Hart-1Richard-1Ross-1Pearson-1   mcdavco01  22_23_player_stats.csv    NaN  NaN  NaN  NaN NaN NaN   \n",
       "2                  ASGASnhl-2ASnhl-10Byng-21Hart-7   draisle01  22_23_player_stats.csv    NaN  NaN  NaN  NaN NaN NaN   \n",
       "\n",
       "    A  SOG  BLK  HIT  EVG  PPG  SHG  EVA  PPA  SHA  PPP  SHP  FP_skaters Season  \n",
       "0 NaN  NaN  NaN  NaN  NaN  NaN  NaN  NaN  NaN  NaN  NaN  NaN         NaN    NaN  \n",
       "1 NaN  NaN  NaN  NaN  NaN  NaN  NaN  NaN  NaN  NaN  NaN  NaN         NaN    NaN  \n",
       "2 NaN  NaN  NaN  NaN  NaN  NaN  NaN  NaN  NaN  NaN  NaN  NaN         NaN    NaN  "
      ]
     },
     "execution_count": 4,
     "metadata": {},
     "output_type": "execute_result"
    }
   ],
   "source": [
    "\n",
    "def load_concat(paths):\n",
    "    frames = []\n",
    "    for p in paths:\n",
    "        if os.path.exists(p):\n",
    "            df = pd.read_csv(p)\n",
    "            df[\"source_file\"] = Path(p).name\n",
    "            frames.append(df)\n",
    "    if not frames:\n",
    "        raise FileNotFoundError(\"No data files found. Check DATA_PATHS above.\")\n",
    "    return pd.concat(frames, ignore_index=True, sort=False)\n",
    "\n",
    "skaters_raw = load_concat(DATA_PATHS[\"skaters\"])\n",
    "goalies_raw = load_concat(DATA_PATHS[\"goalies\"])\n",
    "\n",
    "print(\"Skaters shape:\", skaters_raw.shape)\n",
    "print(\"Goalies shape:\", goalies_raw.shape)\n",
    "skaters_raw.head(3)\n"
   ]
  },
  {
   "cell_type": "markdown",
   "id": "4e62eacd",
   "metadata": {},
   "source": [
    "## Basic cleaning & deduplication"
   ]
  },
  {
   "cell_type": "code",
   "execution_count": 5,
   "id": "45754655",
   "metadata": {},
   "outputs": [
    {
     "name": "stdout",
     "output_type": "stream",
     "text": [
      "Exact duplicate rows removed: 0\n",
      "Per-ID-per-season duplicates removed: 4226\n",
      "Exact duplicate rows removed: 0\n",
      "Per-ID-per-season duplicates removed: 378\n"
     ]
    },
    {
     "data": {
      "text/html": [
       "<div>\n",
       "<style scoped>\n",
       "    .dataframe tbody tr th:only-of-type {\n",
       "        vertical-align: middle;\n",
       "    }\n",
       "\n",
       "    .dataframe tbody tr th {\n",
       "        vertical-align: top;\n",
       "    }\n",
       "\n",
       "    .dataframe thead th {\n",
       "        text-align: right;\n",
       "    }\n",
       "</style>\n",
       "<table border=\"1\" class=\"dataframe\">\n",
       "  <thead>\n",
       "    <tr style=\"text-align: right;\">\n",
       "      <th></th>\n",
       "      <th>Unnamed: 0</th>\n",
       "      <th>Unnamed: 1</th>\n",
       "      <th>Unnamed: 2</th>\n",
       "      <th>Unnamed: 3</th>\n",
       "      <th>Unnamed: 4</th>\n",
       "      <th>Unnamed: 5</th>\n",
       "      <th>Scoring</th>\n",
       "      <th>Scoring.1</th>\n",
       "      <th>Scoring.2</th>\n",
       "      <th>Unnamed: 9</th>\n",
       "      <th>Unnamed: 10</th>\n",
       "      <th>Goals</th>\n",
       "      <th>Goals.1</th>\n",
       "      <th>Goals.2</th>\n",
       "      <th>Goals.3</th>\n",
       "      <th>Assists</th>\n",
       "      <th>Assists.1</th>\n",
       "      <th>Assists.2</th>\n",
       "      <th>Shots</th>\n",
       "      <th>Shots.1</th>\n",
       "      <th>Shots.2</th>\n",
       "      <th>Ice Time</th>\n",
       "      <th>Ice Time.1</th>\n",
       "      <th>Faceoffs</th>\n",
       "      <th>Faceoffs.1</th>\n",
       "      <th>Faceoffs.2</th>\n",
       "      <th>Unnamed: 26</th>\n",
       "      <th>Unnamed: 27</th>\n",
       "      <th>Unnamed: 28</th>\n",
       "      <th>Unnamed: 29</th>\n",
       "      <th>Unnamed: 30</th>\n",
       "      <th>-additional</th>\n",
       "      <th>source_file</th>\n",
       "      <th>Player</th>\n",
       "      <th>Age</th>\n",
       "      <th>Team</th>\n",
       "      <th>Pos</th>\n",
       "      <th>GP</th>\n",
       "      <th>G</th>\n",
       "      <th>A</th>\n",
       "      <th>SOG</th>\n",
       "      <th>BLK</th>\n",
       "      <th>HIT</th>\n",
       "      <th>EVG</th>\n",
       "      <th>PPG</th>\n",
       "      <th>SHG</th>\n",
       "      <th>EVA</th>\n",
       "      <th>PPA</th>\n",
       "      <th>SHA</th>\n",
       "      <th>PPP</th>\n",
       "      <th>SHP</th>\n",
       "      <th>FP_skaters</th>\n",
       "      <th>Season</th>\n",
       "    </tr>\n",
       "  </thead>\n",
       "  <tbody>\n",
       "    <tr>\n",
       "      <th>0</th>\n",
       "      <td>Rk</td>\n",
       "      <td>Player</td>\n",
       "      <td>Age</td>\n",
       "      <td>Team</td>\n",
       "      <td>Pos</td>\n",
       "      <td>GP</td>\n",
       "      <td>G</td>\n",
       "      <td>A</td>\n",
       "      <td>PTS</td>\n",
       "      <td>+/-</td>\n",
       "      <td>PIM</td>\n",
       "      <td>EVG</td>\n",
       "      <td>PPG</td>\n",
       "      <td>SHG</td>\n",
       "      <td>GWG</td>\n",
       "      <td>EV</td>\n",
       "      <td>PP</td>\n",
       "      <td>SH</td>\n",
       "      <td>SOG</td>\n",
       "      <td>SPCT</td>\n",
       "      <td>TSA</td>\n",
       "      <td>TOI</td>\n",
       "      <td>ATOI</td>\n",
       "      <td>FOW</td>\n",
       "      <td>FOL</td>\n",
       "      <td>FO%</td>\n",
       "      <td>BLK</td>\n",
       "      <td>HIT</td>\n",
       "      <td>TAKE</td>\n",
       "      <td>GIVE</td>\n",
       "      <td>Awards</td>\n",
       "      <td>-9999</td>\n",
       "      <td>22_23_player_stats.csv</td>\n",
       "      <td>nan</td>\n",
       "      <td>NaN</td>\n",
       "      <td>NAN</td>\n",
       "      <td>NAN</td>\n",
       "      <td>NaN</td>\n",
       "      <td>NaN</td>\n",
       "      <td>NaN</td>\n",
       "      <td>NaN</td>\n",
       "      <td>NaN</td>\n",
       "      <td>NaN</td>\n",
       "      <td>NaN</td>\n",
       "      <td>NaN</td>\n",
       "      <td>NaN</td>\n",
       "      <td>NaN</td>\n",
       "      <td>NaN</td>\n",
       "      <td>NaN</td>\n",
       "      <td>NaN</td>\n",
       "      <td>NaN</td>\n",
       "      <td>NaN</td>\n",
       "      <td>nan</td>\n",
       "    </tr>\n",
       "    <tr>\n",
       "      <th>3683</th>\n",
       "      <td>nan</td>\n",
       "      <td>nan</td>\n",
       "      <td>nan</td>\n",
       "      <td>nan</td>\n",
       "      <td>nan</td>\n",
       "      <td>nan</td>\n",
       "      <td>nan</td>\n",
       "      <td>nan</td>\n",
       "      <td>nan</td>\n",
       "      <td>nan</td>\n",
       "      <td>nan</td>\n",
       "      <td>nan</td>\n",
       "      <td>nan</td>\n",
       "      <td>nan</td>\n",
       "      <td>nan</td>\n",
       "      <td>nan</td>\n",
       "      <td>nan</td>\n",
       "      <td>nan</td>\n",
       "      <td>nan</td>\n",
       "      <td>nan</td>\n",
       "      <td>nan</td>\n",
       "      <td>nan</td>\n",
       "      <td>nan</td>\n",
       "      <td>nan</td>\n",
       "      <td>nan</td>\n",
       "      <td>nan</td>\n",
       "      <td>nan</td>\n",
       "      <td>nan</td>\n",
       "      <td>nan</td>\n",
       "      <td>nan</td>\n",
       "      <td>nan</td>\n",
       "      <td>nan</td>\n",
       "      <td>skaters_combined_3yr.csv</td>\n",
       "      <td>Connor McDavid</td>\n",
       "      <td>26.0</td>\n",
       "      <td>EDM</td>\n",
       "      <td>C</td>\n",
       "      <td>82.0</td>\n",
       "      <td>64.0</td>\n",
       "      <td>89.0</td>\n",
       "      <td>352.0</td>\n",
       "      <td>40.0</td>\n",
       "      <td>89.0</td>\n",
       "      <td>39.0</td>\n",
       "      <td>21.0</td>\n",
       "      <td>4.0</td>\n",
       "      <td>36.0</td>\n",
       "      <td>50.0</td>\n",
       "      <td>3.0</td>\n",
       "      <td>71.0</td>\n",
       "      <td>7.0</td>\n",
       "      <td>1270.9</td>\n",
       "      <td>2022-23</td>\n",
       "    </tr>\n",
       "    <tr>\n",
       "      <th>3684</th>\n",
       "      <td>nan</td>\n",
       "      <td>nan</td>\n",
       "      <td>nan</td>\n",
       "      <td>nan</td>\n",
       "      <td>nan</td>\n",
       "      <td>nan</td>\n",
       "      <td>nan</td>\n",
       "      <td>nan</td>\n",
       "      <td>nan</td>\n",
       "      <td>nan</td>\n",
       "      <td>nan</td>\n",
       "      <td>nan</td>\n",
       "      <td>nan</td>\n",
       "      <td>nan</td>\n",
       "      <td>nan</td>\n",
       "      <td>nan</td>\n",
       "      <td>nan</td>\n",
       "      <td>nan</td>\n",
       "      <td>nan</td>\n",
       "      <td>nan</td>\n",
       "      <td>nan</td>\n",
       "      <td>nan</td>\n",
       "      <td>nan</td>\n",
       "      <td>nan</td>\n",
       "      <td>nan</td>\n",
       "      <td>nan</td>\n",
       "      <td>nan</td>\n",
       "      <td>nan</td>\n",
       "      <td>nan</td>\n",
       "      <td>nan</td>\n",
       "      <td>nan</td>\n",
       "      <td>nan</td>\n",
       "      <td>skaters_combined_3yr.csv</td>\n",
       "      <td>Leon Draisaitl</td>\n",
       "      <td>27.0</td>\n",
       "      <td>EDM</td>\n",
       "      <td>C</td>\n",
       "      <td>80.0</td>\n",
       "      <td>52.0</td>\n",
       "      <td>76.0</td>\n",
       "      <td>247.0</td>\n",
       "      <td>40.0</td>\n",
       "      <td>66.0</td>\n",
       "      <td>19.0</td>\n",
       "      <td>32.0</td>\n",
       "      <td>1.0</td>\n",
       "      <td>45.0</td>\n",
       "      <td>30.0</td>\n",
       "      <td>1.0</td>\n",
       "      <td>62.0</td>\n",
       "      <td>2.0</td>\n",
       "      <td>1013.8</td>\n",
       "      <td>2022-23</td>\n",
       "    </tr>\n",
       "  </tbody>\n",
       "</table>\n",
       "</div>"
      ],
      "text/plain": [
       "     Unnamed: 0 Unnamed: 1 Unnamed: 2 Unnamed: 3 Unnamed: 4 Unnamed: 5 Scoring Scoring.1 Scoring.2 Unnamed: 9  \\\n",
       "0            Rk     Player        Age       Team        Pos         GP       G         A       PTS        +/-   \n",
       "3683        nan        nan        nan        nan        nan        nan     nan       nan       nan        nan   \n",
       "3684        nan        nan        nan        nan        nan        nan     nan       nan       nan        nan   \n",
       "\n",
       "     Unnamed: 10 Goals Goals.1 Goals.2 Goals.3 Assists Assists.1 Assists.2 Shots Shots.1 Shots.2 Ice Time Ice Time.1  \\\n",
       "0            PIM   EVG     PPG     SHG     GWG      EV        PP        SH   SOG    SPCT     TSA      TOI       ATOI   \n",
       "3683         nan   nan     nan     nan     nan     nan       nan       nan   nan     nan     nan      nan        nan   \n",
       "3684         nan   nan     nan     nan     nan     nan       nan       nan   nan     nan     nan      nan        nan   \n",
       "\n",
       "     Faceoffs Faceoffs.1 Faceoffs.2 Unnamed: 26 Unnamed: 27 Unnamed: 28 Unnamed: 29 Unnamed: 30 -additional  \\\n",
       "0         FOW        FOL        FO%         BLK         HIT        TAKE        GIVE      Awards       -9999   \n",
       "3683      nan        nan        nan         nan         nan         nan         nan         nan         nan   \n",
       "3684      nan        nan        nan         nan         nan         nan         nan         nan         nan   \n",
       "\n",
       "                   source_file          Player   Age Team  Pos    GP     G     A    SOG   BLK   HIT   EVG   PPG  SHG  \\\n",
       "0       22_23_player_stats.csv             nan   NaN  NAN  NAN   NaN   NaN   NaN    NaN   NaN   NaN   NaN   NaN  NaN   \n",
       "3683  skaters_combined_3yr.csv  Connor McDavid  26.0  EDM    C  82.0  64.0  89.0  352.0  40.0  89.0  39.0  21.0  4.0   \n",
       "3684  skaters_combined_3yr.csv  Leon Draisaitl  27.0  EDM    C  80.0  52.0  76.0  247.0  40.0  66.0  19.0  32.0  1.0   \n",
       "\n",
       "       EVA   PPA  SHA   PPP  SHP  FP_skaters   Season  \n",
       "0      NaN   NaN  NaN   NaN  NaN         NaN      nan  \n",
       "3683  36.0  50.0  3.0  71.0  7.0      1270.9  2022-23  \n",
       "3684  45.0  30.0  1.0  62.0  2.0      1013.8  2022-23  "
      ]
     },
     "execution_count": 5,
     "metadata": {},
     "output_type": "execute_result"
    }
   ],
   "source": [
    "\n",
    "def clean_standardize(df, id_cols_guess=(\"Player\",\"player\",\"Name\",\"name\"), team_cols=(\"Team\",\"team\"), pos_cols=(\"Pos\",\"Position\",\"position\")):\n",
    "    df = df.copy()\n",
    "\n",
    "    # Trim strings\n",
    "    for col in df.select_dtypes(include=\"object\").columns:\n",
    "        df[col] = df[col].astype(str).str.strip()\n",
    "\n",
    "    # Standardize team & position if present\n",
    "    for t in team_cols:\n",
    "        if t in df.columns:\n",
    "            df[t] = df[t].str.upper()\n",
    "\n",
    "    for p in pos_cols:\n",
    "        if p in df.columns:\n",
    "            df[p] = df[p].str.upper().str.replace(\"C/LW\",\"C-LW\").str.replace(\"LW/C\",\"LW-C\")\n",
    "\n",
    "    # Remove exact duplicate rows\n",
    "    before = len(df)\n",
    "    df = df.drop_duplicates()\n",
    "    after = len(df)\n",
    "    print(f\"Exact duplicate rows removed: {before - after}\")\n",
    "\n",
    "    # If we have an obvious ID + season, dedup by that\n",
    "    season_cols = [c for c in df.columns if \"season\" in c.lower() or c.lower() in {\"season\",\"year\"}]\n",
    "    id_col = next((c for c in id_cols_guess if c in df.columns), None)\n",
    "\n",
    "    if id_col is not None and season_cols:\n",
    "        key_cols = [id_col] + season_cols\n",
    "        before = len(df)\n",
    "        df = df.sort_index().drop_duplicates(subset=key_cols, keep=\"first\")\n",
    "        after = len(df)\n",
    "        print(f\"Per-ID-per-season duplicates removed: {before - after}\")\n",
    "\n",
    "    return df\n",
    "\n",
    "skaters = clean_standardize(skaters_raw)\n",
    "goalies = clean_standardize(goalies_raw)\n",
    "skaters.head(3)\n"
   ]
  },
  {
   "cell_type": "markdown",
   "id": "3ad43b40",
   "metadata": {},
   "source": [
    "## Additional Data Cleaning"
   ]
  },
  {
   "cell_type": "code",
   "execution_count": 6,
   "id": "92fff280",
   "metadata": {},
   "outputs": [
    {
     "name": "stdout",
     "output_type": "stream",
     "text": [
      "Strict duplicates removed: 3\n",
      "Strict duplicates removed: 2\n"
     ]
    }
   ],
   "source": [
    "def dedupe_strict(df):\n",
    "    d = df.copy()\n",
    "    # Don't let filename differences keep duplicate rows\n",
    "    ignore = [c for c in d.columns if c.lower() in {\"source_file\"} or c.lower().startswith(\"unnamed\")]\n",
    "    before = len(d)\n",
    "    d = d.drop(columns=ignore, errors=\"ignore\").drop_duplicates()\n",
    "    print(f\"Strict duplicates removed: {before - len(d)}\")\n",
    "    return d\n",
    "\n",
    "skaters_raw = dedupe_strict(skaters_raw)\n",
    "goalies_raw = dedupe_strict(goalies_raw)\n"
   ]
  },
  {
   "cell_type": "markdown",
   "id": "d52c64c0",
   "metadata": {},
   "source": [
    "## Quick EDA"
   ]
  },
  {
   "cell_type": "code",
   "execution_count": 7,
   "id": "4c53204b",
   "metadata": {},
   "outputs": [
    {
     "data": {
      "text/html": [
       "<div>\n",
       "<style scoped>\n",
       "    .dataframe tbody tr th:only-of-type {\n",
       "        vertical-align: middle;\n",
       "    }\n",
       "\n",
       "    .dataframe tbody tr th {\n",
       "        vertical-align: top;\n",
       "    }\n",
       "\n",
       "    .dataframe thead th {\n",
       "        text-align: right;\n",
       "    }\n",
       "</style>\n",
       "<table border=\"1\" class=\"dataframe\">\n",
       "  <thead>\n",
       "    <tr style=\"text-align: right;\">\n",
       "      <th></th>\n",
       "      <th>count</th>\n",
       "      <th>unique</th>\n",
       "      <th>top</th>\n",
       "      <th>freq</th>\n",
       "      <th>mean</th>\n",
       "      <th>std</th>\n",
       "      <th>min</th>\n",
       "      <th>25%</th>\n",
       "      <th>50%</th>\n",
       "      <th>75%</th>\n",
       "      <th>max</th>\n",
       "    </tr>\n",
       "  </thead>\n",
       "  <tbody>\n",
       "    <tr>\n",
       "      <th>Unnamed: 0</th>\n",
       "      <td>2796</td>\n",
       "      <td>2</td>\n",
       "      <td>nan</td>\n",
       "      <td>2795</td>\n",
       "      <td>NaN</td>\n",
       "      <td>NaN</td>\n",
       "      <td>NaN</td>\n",
       "      <td>NaN</td>\n",
       "      <td>NaN</td>\n",
       "      <td>NaN</td>\n",
       "      <td>NaN</td>\n",
       "    </tr>\n",
       "    <tr>\n",
       "      <th>Unnamed: 1</th>\n",
       "      <td>2796</td>\n",
       "      <td>2</td>\n",
       "      <td>nan</td>\n",
       "      <td>2795</td>\n",
       "      <td>NaN</td>\n",
       "      <td>NaN</td>\n",
       "      <td>NaN</td>\n",
       "      <td>NaN</td>\n",
       "      <td>NaN</td>\n",
       "      <td>NaN</td>\n",
       "      <td>NaN</td>\n",
       "    </tr>\n",
       "    <tr>\n",
       "      <th>Unnamed: 2</th>\n",
       "      <td>2796</td>\n",
       "      <td>2</td>\n",
       "      <td>nan</td>\n",
       "      <td>2795</td>\n",
       "      <td>NaN</td>\n",
       "      <td>NaN</td>\n",
       "      <td>NaN</td>\n",
       "      <td>NaN</td>\n",
       "      <td>NaN</td>\n",
       "      <td>NaN</td>\n",
       "      <td>NaN</td>\n",
       "    </tr>\n",
       "    <tr>\n",
       "      <th>Unnamed: 3</th>\n",
       "      <td>2796</td>\n",
       "      <td>2</td>\n",
       "      <td>nan</td>\n",
       "      <td>2795</td>\n",
       "      <td>NaN</td>\n",
       "      <td>NaN</td>\n",
       "      <td>NaN</td>\n",
       "      <td>NaN</td>\n",
       "      <td>NaN</td>\n",
       "      <td>NaN</td>\n",
       "      <td>NaN</td>\n",
       "    </tr>\n",
       "    <tr>\n",
       "      <th>Unnamed: 4</th>\n",
       "      <td>2796</td>\n",
       "      <td>2</td>\n",
       "      <td>nan</td>\n",
       "      <td>2795</td>\n",
       "      <td>NaN</td>\n",
       "      <td>NaN</td>\n",
       "      <td>NaN</td>\n",
       "      <td>NaN</td>\n",
       "      <td>NaN</td>\n",
       "      <td>NaN</td>\n",
       "      <td>NaN</td>\n",
       "    </tr>\n",
       "    <tr>\n",
       "      <th>Unnamed: 5</th>\n",
       "      <td>2796</td>\n",
       "      <td>2</td>\n",
       "      <td>nan</td>\n",
       "      <td>2795</td>\n",
       "      <td>NaN</td>\n",
       "      <td>NaN</td>\n",
       "      <td>NaN</td>\n",
       "      <td>NaN</td>\n",
       "      <td>NaN</td>\n",
       "      <td>NaN</td>\n",
       "      <td>NaN</td>\n",
       "    </tr>\n",
       "    <tr>\n",
       "      <th>Scoring</th>\n",
       "      <td>2796</td>\n",
       "      <td>2</td>\n",
       "      <td>nan</td>\n",
       "      <td>2795</td>\n",
       "      <td>NaN</td>\n",
       "      <td>NaN</td>\n",
       "      <td>NaN</td>\n",
       "      <td>NaN</td>\n",
       "      <td>NaN</td>\n",
       "      <td>NaN</td>\n",
       "      <td>NaN</td>\n",
       "    </tr>\n",
       "    <tr>\n",
       "      <th>Scoring.1</th>\n",
       "      <td>2796</td>\n",
       "      <td>2</td>\n",
       "      <td>nan</td>\n",
       "      <td>2795</td>\n",
       "      <td>NaN</td>\n",
       "      <td>NaN</td>\n",
       "      <td>NaN</td>\n",
       "      <td>NaN</td>\n",
       "      <td>NaN</td>\n",
       "      <td>NaN</td>\n",
       "      <td>NaN</td>\n",
       "    </tr>\n",
       "    <tr>\n",
       "      <th>Scoring.2</th>\n",
       "      <td>2796</td>\n",
       "      <td>2</td>\n",
       "      <td>nan</td>\n",
       "      <td>2795</td>\n",
       "      <td>NaN</td>\n",
       "      <td>NaN</td>\n",
       "      <td>NaN</td>\n",
       "      <td>NaN</td>\n",
       "      <td>NaN</td>\n",
       "      <td>NaN</td>\n",
       "      <td>NaN</td>\n",
       "    </tr>\n",
       "    <tr>\n",
       "      <th>Unnamed: 9</th>\n",
       "      <td>2796</td>\n",
       "      <td>2</td>\n",
       "      <td>nan</td>\n",
       "      <td>2795</td>\n",
       "      <td>NaN</td>\n",
       "      <td>NaN</td>\n",
       "      <td>NaN</td>\n",
       "      <td>NaN</td>\n",
       "      <td>NaN</td>\n",
       "      <td>NaN</td>\n",
       "      <td>NaN</td>\n",
       "    </tr>\n",
       "    <tr>\n",
       "      <th>Unnamed: 10</th>\n",
       "      <td>2796</td>\n",
       "      <td>2</td>\n",
       "      <td>nan</td>\n",
       "      <td>2795</td>\n",
       "      <td>NaN</td>\n",
       "      <td>NaN</td>\n",
       "      <td>NaN</td>\n",
       "      <td>NaN</td>\n",
       "      <td>NaN</td>\n",
       "      <td>NaN</td>\n",
       "      <td>NaN</td>\n",
       "    </tr>\n",
       "    <tr>\n",
       "      <th>Goals</th>\n",
       "      <td>2796</td>\n",
       "      <td>2</td>\n",
       "      <td>nan</td>\n",
       "      <td>2795</td>\n",
       "      <td>NaN</td>\n",
       "      <td>NaN</td>\n",
       "      <td>NaN</td>\n",
       "      <td>NaN</td>\n",
       "      <td>NaN</td>\n",
       "      <td>NaN</td>\n",
       "      <td>NaN</td>\n",
       "    </tr>\n",
       "    <tr>\n",
       "      <th>Goals.1</th>\n",
       "      <td>2796</td>\n",
       "      <td>2</td>\n",
       "      <td>nan</td>\n",
       "      <td>2795</td>\n",
       "      <td>NaN</td>\n",
       "      <td>NaN</td>\n",
       "      <td>NaN</td>\n",
       "      <td>NaN</td>\n",
       "      <td>NaN</td>\n",
       "      <td>NaN</td>\n",
       "      <td>NaN</td>\n",
       "    </tr>\n",
       "    <tr>\n",
       "      <th>Goals.2</th>\n",
       "      <td>2796</td>\n",
       "      <td>2</td>\n",
       "      <td>nan</td>\n",
       "      <td>2795</td>\n",
       "      <td>NaN</td>\n",
       "      <td>NaN</td>\n",
       "      <td>NaN</td>\n",
       "      <td>NaN</td>\n",
       "      <td>NaN</td>\n",
       "      <td>NaN</td>\n",
       "      <td>NaN</td>\n",
       "    </tr>\n",
       "    <tr>\n",
       "      <th>Goals.3</th>\n",
       "      <td>2796</td>\n",
       "      <td>2</td>\n",
       "      <td>nan</td>\n",
       "      <td>2795</td>\n",
       "      <td>NaN</td>\n",
       "      <td>NaN</td>\n",
       "      <td>NaN</td>\n",
       "      <td>NaN</td>\n",
       "      <td>NaN</td>\n",
       "      <td>NaN</td>\n",
       "      <td>NaN</td>\n",
       "    </tr>\n",
       "    <tr>\n",
       "      <th>Assists</th>\n",
       "      <td>2796</td>\n",
       "      <td>2</td>\n",
       "      <td>nan</td>\n",
       "      <td>2795</td>\n",
       "      <td>NaN</td>\n",
       "      <td>NaN</td>\n",
       "      <td>NaN</td>\n",
       "      <td>NaN</td>\n",
       "      <td>NaN</td>\n",
       "      <td>NaN</td>\n",
       "      <td>NaN</td>\n",
       "    </tr>\n",
       "    <tr>\n",
       "      <th>Assists.1</th>\n",
       "      <td>2796</td>\n",
       "      <td>2</td>\n",
       "      <td>nan</td>\n",
       "      <td>2795</td>\n",
       "      <td>NaN</td>\n",
       "      <td>NaN</td>\n",
       "      <td>NaN</td>\n",
       "      <td>NaN</td>\n",
       "      <td>NaN</td>\n",
       "      <td>NaN</td>\n",
       "      <td>NaN</td>\n",
       "    </tr>\n",
       "    <tr>\n",
       "      <th>Assists.2</th>\n",
       "      <td>2796</td>\n",
       "      <td>2</td>\n",
       "      <td>nan</td>\n",
       "      <td>2795</td>\n",
       "      <td>NaN</td>\n",
       "      <td>NaN</td>\n",
       "      <td>NaN</td>\n",
       "      <td>NaN</td>\n",
       "      <td>NaN</td>\n",
       "      <td>NaN</td>\n",
       "      <td>NaN</td>\n",
       "    </tr>\n",
       "    <tr>\n",
       "      <th>Shots</th>\n",
       "      <td>2796</td>\n",
       "      <td>2</td>\n",
       "      <td>nan</td>\n",
       "      <td>2795</td>\n",
       "      <td>NaN</td>\n",
       "      <td>NaN</td>\n",
       "      <td>NaN</td>\n",
       "      <td>NaN</td>\n",
       "      <td>NaN</td>\n",
       "      <td>NaN</td>\n",
       "      <td>NaN</td>\n",
       "    </tr>\n",
       "    <tr>\n",
       "      <th>Shots.1</th>\n",
       "      <td>2796</td>\n",
       "      <td>2</td>\n",
       "      <td>nan</td>\n",
       "      <td>2795</td>\n",
       "      <td>NaN</td>\n",
       "      <td>NaN</td>\n",
       "      <td>NaN</td>\n",
       "      <td>NaN</td>\n",
       "      <td>NaN</td>\n",
       "      <td>NaN</td>\n",
       "      <td>NaN</td>\n",
       "    </tr>\n",
       "  </tbody>\n",
       "</table>\n",
       "</div>"
      ],
      "text/plain": [
       "            count unique  top  freq mean  std  min  25%  50%  75%  max\n",
       "Unnamed: 0   2796      2  nan  2795  NaN  NaN  NaN  NaN  NaN  NaN  NaN\n",
       "Unnamed: 1   2796      2  nan  2795  NaN  NaN  NaN  NaN  NaN  NaN  NaN\n",
       "Unnamed: 2   2796      2  nan  2795  NaN  NaN  NaN  NaN  NaN  NaN  NaN\n",
       "Unnamed: 3   2796      2  nan  2795  NaN  NaN  NaN  NaN  NaN  NaN  NaN\n",
       "Unnamed: 4   2796      2  nan  2795  NaN  NaN  NaN  NaN  NaN  NaN  NaN\n",
       "Unnamed: 5   2796      2  nan  2795  NaN  NaN  NaN  NaN  NaN  NaN  NaN\n",
       "Scoring      2796      2  nan  2795  NaN  NaN  NaN  NaN  NaN  NaN  NaN\n",
       "Scoring.1    2796      2  nan  2795  NaN  NaN  NaN  NaN  NaN  NaN  NaN\n",
       "Scoring.2    2796      2  nan  2795  NaN  NaN  NaN  NaN  NaN  NaN  NaN\n",
       "Unnamed: 9   2796      2  nan  2795  NaN  NaN  NaN  NaN  NaN  NaN  NaN\n",
       "Unnamed: 10  2796      2  nan  2795  NaN  NaN  NaN  NaN  NaN  NaN  NaN\n",
       "Goals        2796      2  nan  2795  NaN  NaN  NaN  NaN  NaN  NaN  NaN\n",
       "Goals.1      2796      2  nan  2795  NaN  NaN  NaN  NaN  NaN  NaN  NaN\n",
       "Goals.2      2796      2  nan  2795  NaN  NaN  NaN  NaN  NaN  NaN  NaN\n",
       "Goals.3      2796      2  nan  2795  NaN  NaN  NaN  NaN  NaN  NaN  NaN\n",
       "Assists      2796      2  nan  2795  NaN  NaN  NaN  NaN  NaN  NaN  NaN\n",
       "Assists.1    2796      2  nan  2795  NaN  NaN  NaN  NaN  NaN  NaN  NaN\n",
       "Assists.2    2796      2  nan  2795  NaN  NaN  NaN  NaN  NaN  NaN  NaN\n",
       "Shots        2796      2  nan  2795  NaN  NaN  NaN  NaN  NaN  NaN  NaN\n",
       "Shots.1      2796      2  nan  2795  NaN  NaN  NaN  NaN  NaN  NaN  NaN"
      ]
     },
     "metadata": {},
     "output_type": "display_data"
    },
    {
     "data": {
      "text/html": [
       "<div>\n",
       "<style scoped>\n",
       "    .dataframe tbody tr th:only-of-type {\n",
       "        vertical-align: middle;\n",
       "    }\n",
       "\n",
       "    .dataframe tbody tr th {\n",
       "        vertical-align: top;\n",
       "    }\n",
       "\n",
       "    .dataframe thead th {\n",
       "        text-align: right;\n",
       "    }\n",
       "</style>\n",
       "<table border=\"1\" class=\"dataframe\">\n",
       "  <thead>\n",
       "    <tr style=\"text-align: right;\">\n",
       "      <th></th>\n",
       "      <th>count</th>\n",
       "      <th>unique</th>\n",
       "      <th>top</th>\n",
       "      <th>freq</th>\n",
       "      <th>mean</th>\n",
       "      <th>std</th>\n",
       "      <th>min</th>\n",
       "      <th>25%</th>\n",
       "      <th>50%</th>\n",
       "      <th>75%</th>\n",
       "      <th>max</th>\n",
       "    </tr>\n",
       "  </thead>\n",
       "  <tbody>\n",
       "    <tr>\n",
       "      <th>Unnamed: 0</th>\n",
       "      <td>311</td>\n",
       "      <td>2</td>\n",
       "      <td>nan</td>\n",
       "      <td>310</td>\n",
       "      <td>NaN</td>\n",
       "      <td>NaN</td>\n",
       "      <td>NaN</td>\n",
       "      <td>NaN</td>\n",
       "      <td>NaN</td>\n",
       "      <td>NaN</td>\n",
       "      <td>NaN</td>\n",
       "    </tr>\n",
       "    <tr>\n",
       "      <th>Unnamed: 1</th>\n",
       "      <td>311</td>\n",
       "      <td>2</td>\n",
       "      <td>nan</td>\n",
       "      <td>310</td>\n",
       "      <td>NaN</td>\n",
       "      <td>NaN</td>\n",
       "      <td>NaN</td>\n",
       "      <td>NaN</td>\n",
       "      <td>NaN</td>\n",
       "      <td>NaN</td>\n",
       "      <td>NaN</td>\n",
       "    </tr>\n",
       "    <tr>\n",
       "      <th>Unnamed: 2</th>\n",
       "      <td>311</td>\n",
       "      <td>2</td>\n",
       "      <td>nan</td>\n",
       "      <td>310</td>\n",
       "      <td>NaN</td>\n",
       "      <td>NaN</td>\n",
       "      <td>NaN</td>\n",
       "      <td>NaN</td>\n",
       "      <td>NaN</td>\n",
       "      <td>NaN</td>\n",
       "      <td>NaN</td>\n",
       "    </tr>\n",
       "    <tr>\n",
       "      <th>Unnamed: 3</th>\n",
       "      <td>311</td>\n",
       "      <td>2</td>\n",
       "      <td>nan</td>\n",
       "      <td>310</td>\n",
       "      <td>NaN</td>\n",
       "      <td>NaN</td>\n",
       "      <td>NaN</td>\n",
       "      <td>NaN</td>\n",
       "      <td>NaN</td>\n",
       "      <td>NaN</td>\n",
       "      <td>NaN</td>\n",
       "    </tr>\n",
       "    <tr>\n",
       "      <th>Unnamed: 4</th>\n",
       "      <td>311</td>\n",
       "      <td>2</td>\n",
       "      <td>nan</td>\n",
       "      <td>310</td>\n",
       "      <td>NaN</td>\n",
       "      <td>NaN</td>\n",
       "      <td>NaN</td>\n",
       "      <td>NaN</td>\n",
       "      <td>NaN</td>\n",
       "      <td>NaN</td>\n",
       "      <td>NaN</td>\n",
       "    </tr>\n",
       "    <tr>\n",
       "      <th>Goalie Stats</th>\n",
       "      <td>311</td>\n",
       "      <td>2</td>\n",
       "      <td>nan</td>\n",
       "      <td>310</td>\n",
       "      <td>NaN</td>\n",
       "      <td>NaN</td>\n",
       "      <td>NaN</td>\n",
       "      <td>NaN</td>\n",
       "      <td>NaN</td>\n",
       "      <td>NaN</td>\n",
       "      <td>NaN</td>\n",
       "    </tr>\n",
       "    <tr>\n",
       "      <th>Goalie Stats.1</th>\n",
       "      <td>311</td>\n",
       "      <td>2</td>\n",
       "      <td>nan</td>\n",
       "      <td>310</td>\n",
       "      <td>NaN</td>\n",
       "      <td>NaN</td>\n",
       "      <td>NaN</td>\n",
       "      <td>NaN</td>\n",
       "      <td>NaN</td>\n",
       "      <td>NaN</td>\n",
       "      <td>NaN</td>\n",
       "    </tr>\n",
       "    <tr>\n",
       "      <th>Goalie Stats.2</th>\n",
       "      <td>311</td>\n",
       "      <td>2</td>\n",
       "      <td>nan</td>\n",
       "      <td>310</td>\n",
       "      <td>NaN</td>\n",
       "      <td>NaN</td>\n",
       "      <td>NaN</td>\n",
       "      <td>NaN</td>\n",
       "      <td>NaN</td>\n",
       "      <td>NaN</td>\n",
       "      <td>NaN</td>\n",
       "    </tr>\n",
       "    <tr>\n",
       "      <th>Goalie Stats.3</th>\n",
       "      <td>311</td>\n",
       "      <td>2</td>\n",
       "      <td>nan</td>\n",
       "      <td>310</td>\n",
       "      <td>NaN</td>\n",
       "      <td>NaN</td>\n",
       "      <td>NaN</td>\n",
       "      <td>NaN</td>\n",
       "      <td>NaN</td>\n",
       "      <td>NaN</td>\n",
       "      <td>NaN</td>\n",
       "    </tr>\n",
       "    <tr>\n",
       "      <th>Goalie Stats.4</th>\n",
       "      <td>311</td>\n",
       "      <td>2</td>\n",
       "      <td>nan</td>\n",
       "      <td>310</td>\n",
       "      <td>NaN</td>\n",
       "      <td>NaN</td>\n",
       "      <td>NaN</td>\n",
       "      <td>NaN</td>\n",
       "      <td>NaN</td>\n",
       "      <td>NaN</td>\n",
       "      <td>NaN</td>\n",
       "    </tr>\n",
       "    <tr>\n",
       "      <th>Goalie Stats.5</th>\n",
       "      <td>311</td>\n",
       "      <td>2</td>\n",
       "      <td>nan</td>\n",
       "      <td>310</td>\n",
       "      <td>NaN</td>\n",
       "      <td>NaN</td>\n",
       "      <td>NaN</td>\n",
       "      <td>NaN</td>\n",
       "      <td>NaN</td>\n",
       "      <td>NaN</td>\n",
       "      <td>NaN</td>\n",
       "    </tr>\n",
       "    <tr>\n",
       "      <th>Goalie Stats.6</th>\n",
       "      <td>311</td>\n",
       "      <td>2</td>\n",
       "      <td>nan</td>\n",
       "      <td>310</td>\n",
       "      <td>NaN</td>\n",
       "      <td>NaN</td>\n",
       "      <td>NaN</td>\n",
       "      <td>NaN</td>\n",
       "      <td>NaN</td>\n",
       "      <td>NaN</td>\n",
       "      <td>NaN</td>\n",
       "    </tr>\n",
       "    <tr>\n",
       "      <th>Goalie Stats.7</th>\n",
       "      <td>311</td>\n",
       "      <td>2</td>\n",
       "      <td>nan</td>\n",
       "      <td>310</td>\n",
       "      <td>NaN</td>\n",
       "      <td>NaN</td>\n",
       "      <td>NaN</td>\n",
       "      <td>NaN</td>\n",
       "      <td>NaN</td>\n",
       "      <td>NaN</td>\n",
       "      <td>NaN</td>\n",
       "    </tr>\n",
       "    <tr>\n",
       "      <th>Goalie Stats.8</th>\n",
       "      <td>311</td>\n",
       "      <td>2</td>\n",
       "      <td>nan</td>\n",
       "      <td>310</td>\n",
       "      <td>NaN</td>\n",
       "      <td>NaN</td>\n",
       "      <td>NaN</td>\n",
       "      <td>NaN</td>\n",
       "      <td>NaN</td>\n",
       "      <td>NaN</td>\n",
       "      <td>NaN</td>\n",
       "    </tr>\n",
       "    <tr>\n",
       "      <th>Goalie Stats.9</th>\n",
       "      <td>311</td>\n",
       "      <td>2</td>\n",
       "      <td>nan</td>\n",
       "      <td>310</td>\n",
       "      <td>NaN</td>\n",
       "      <td>NaN</td>\n",
       "      <td>NaN</td>\n",
       "      <td>NaN</td>\n",
       "      <td>NaN</td>\n",
       "      <td>NaN</td>\n",
       "      <td>NaN</td>\n",
       "    </tr>\n",
       "    <tr>\n",
       "      <th>Goalie Stats.10</th>\n",
       "      <td>311</td>\n",
       "      <td>2</td>\n",
       "      <td>nan</td>\n",
       "      <td>310</td>\n",
       "      <td>NaN</td>\n",
       "      <td>NaN</td>\n",
       "      <td>NaN</td>\n",
       "      <td>NaN</td>\n",
       "      <td>NaN</td>\n",
       "      <td>NaN</td>\n",
       "      <td>NaN</td>\n",
       "    </tr>\n",
       "    <tr>\n",
       "      <th>Goalie Stats.11</th>\n",
       "      <td>311</td>\n",
       "      <td>2</td>\n",
       "      <td>nan</td>\n",
       "      <td>310</td>\n",
       "      <td>NaN</td>\n",
       "      <td>NaN</td>\n",
       "      <td>NaN</td>\n",
       "      <td>NaN</td>\n",
       "      <td>NaN</td>\n",
       "      <td>NaN</td>\n",
       "      <td>NaN</td>\n",
       "    </tr>\n",
       "    <tr>\n",
       "      <th>Goalie Stats.12</th>\n",
       "      <td>311</td>\n",
       "      <td>2</td>\n",
       "      <td>nan</td>\n",
       "      <td>310</td>\n",
       "      <td>NaN</td>\n",
       "      <td>NaN</td>\n",
       "      <td>NaN</td>\n",
       "      <td>NaN</td>\n",
       "      <td>NaN</td>\n",
       "      <td>NaN</td>\n",
       "      <td>NaN</td>\n",
       "    </tr>\n",
       "    <tr>\n",
       "      <th>Goalie Stats.13</th>\n",
       "      <td>311</td>\n",
       "      <td>2</td>\n",
       "      <td>nan</td>\n",
       "      <td>310</td>\n",
       "      <td>NaN</td>\n",
       "      <td>NaN</td>\n",
       "      <td>NaN</td>\n",
       "      <td>NaN</td>\n",
       "      <td>NaN</td>\n",
       "      <td>NaN</td>\n",
       "      <td>NaN</td>\n",
       "    </tr>\n",
       "    <tr>\n",
       "      <th>Goalie Stats.14</th>\n",
       "      <td>311</td>\n",
       "      <td>2</td>\n",
       "      <td>nan</td>\n",
       "      <td>310</td>\n",
       "      <td>NaN</td>\n",
       "      <td>NaN</td>\n",
       "      <td>NaN</td>\n",
       "      <td>NaN</td>\n",
       "      <td>NaN</td>\n",
       "      <td>NaN</td>\n",
       "      <td>NaN</td>\n",
       "    </tr>\n",
       "  </tbody>\n",
       "</table>\n",
       "</div>"
      ],
      "text/plain": [
       "                count unique  top freq mean  std  min  25%  50%  75%  max\n",
       "Unnamed: 0        311      2  nan  310  NaN  NaN  NaN  NaN  NaN  NaN  NaN\n",
       "Unnamed: 1        311      2  nan  310  NaN  NaN  NaN  NaN  NaN  NaN  NaN\n",
       "Unnamed: 2        311      2  nan  310  NaN  NaN  NaN  NaN  NaN  NaN  NaN\n",
       "Unnamed: 3        311      2  nan  310  NaN  NaN  NaN  NaN  NaN  NaN  NaN\n",
       "Unnamed: 4        311      2  nan  310  NaN  NaN  NaN  NaN  NaN  NaN  NaN\n",
       "Goalie Stats      311      2  nan  310  NaN  NaN  NaN  NaN  NaN  NaN  NaN\n",
       "Goalie Stats.1    311      2  nan  310  NaN  NaN  NaN  NaN  NaN  NaN  NaN\n",
       "Goalie Stats.2    311      2  nan  310  NaN  NaN  NaN  NaN  NaN  NaN  NaN\n",
       "Goalie Stats.3    311      2  nan  310  NaN  NaN  NaN  NaN  NaN  NaN  NaN\n",
       "Goalie Stats.4    311      2  nan  310  NaN  NaN  NaN  NaN  NaN  NaN  NaN\n",
       "Goalie Stats.5    311      2  nan  310  NaN  NaN  NaN  NaN  NaN  NaN  NaN\n",
       "Goalie Stats.6    311      2  nan  310  NaN  NaN  NaN  NaN  NaN  NaN  NaN\n",
       "Goalie Stats.7    311      2  nan  310  NaN  NaN  NaN  NaN  NaN  NaN  NaN\n",
       "Goalie Stats.8    311      2  nan  310  NaN  NaN  NaN  NaN  NaN  NaN  NaN\n",
       "Goalie Stats.9    311      2  nan  310  NaN  NaN  NaN  NaN  NaN  NaN  NaN\n",
       "Goalie Stats.10   311      2  nan  310  NaN  NaN  NaN  NaN  NaN  NaN  NaN\n",
       "Goalie Stats.11   311      2  nan  310  NaN  NaN  NaN  NaN  NaN  NaN  NaN\n",
       "Goalie Stats.12   311      2  nan  310  NaN  NaN  NaN  NaN  NaN  NaN  NaN\n",
       "Goalie Stats.13   311      2  nan  310  NaN  NaN  NaN  NaN  NaN  NaN  NaN\n",
       "Goalie Stats.14   311      2  nan  310  NaN  NaN  NaN  NaN  NaN  NaN  NaN"
      ]
     },
     "metadata": {},
     "output_type": "display_data"
    },
    {
     "data": {
      "application/vnd.plotly.v1+json": {
       "config": {
        "plotlyServerURL": "https://plot.ly"
       },
       "data": [
        {
         "bingroup": "x",
         "hovertemplate": "G=%{x}<br>count=%{y}<extra></extra>",
         "legendgroup": "",
         "marker": {
          "color": "#636efa",
          "pattern": {
           "shape": ""
          }
         },
         "name": "",
         "nbinsx": 30,
         "orientation": "v",
         "showlegend": false,
         "type": "histogram",
         "x": {
          "bdata": "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",
          "dtype": "f8"
         },
         "xaxis": "x",
         "yaxis": "y"
        }
       ],
       "layout": {
        "barmode": "relative",
        "legend": {
         "tracegroupgap": 0
        },
        "template": {
         "data": {
          "bar": [
           {
            "error_x": {
             "color": "#2a3f5f"
            },
            "error_y": {
             "color": "#2a3f5f"
            },
            "marker": {
             "line": {
              "color": "#E5ECF6",
              "width": 0.5
             },
             "pattern": {
              "fillmode": "overlay",
              "size": 10,
              "solidity": 0.2
             }
            },
            "type": "bar"
           }
          ],
          "barpolar": [
           {
            "marker": {
             "line": {
              "color": "#E5ECF6",
              "width": 0.5
             },
             "pattern": {
              "fillmode": "overlay",
              "size": 10,
              "solidity": 0.2
             }
            },
            "type": "barpolar"
           }
          ],
          "carpet": [
           {
            "aaxis": {
             "endlinecolor": "#2a3f5f",
             "gridcolor": "white",
             "linecolor": "white",
             "minorgridcolor": "white",
             "startlinecolor": "#2a3f5f"
            },
            "baxis": {
             "endlinecolor": "#2a3f5f",
             "gridcolor": "white",
             "linecolor": "white",
             "minorgridcolor": "white",
             "startlinecolor": "#2a3f5f"
            },
            "type": "carpet"
           }
          ],
          "choropleth": [
           {
            "colorbar": {
             "outlinewidth": 0,
             "ticks": ""
            },
            "type": "choropleth"
           }
          ],
          "contour": [
           {
            "colorbar": {
             "outlinewidth": 0,
             "ticks": ""
            },
            "colorscale": [
             [
              0,
              "#0d0887"
             ],
             [
              0.1111111111111111,
              "#46039f"
             ],
             [
              0.2222222222222222,
              "#7201a8"
             ],
             [
              0.3333333333333333,
              "#9c179e"
             ],
             [
              0.4444444444444444,
              "#bd3786"
             ],
             [
              0.5555555555555556,
              "#d8576b"
             ],
             [
              0.6666666666666666,
              "#ed7953"
             ],
             [
              0.7777777777777778,
              "#fb9f3a"
             ],
             [
              0.8888888888888888,
              "#fdca26"
             ],
             [
              1,
              "#f0f921"
             ]
            ],
            "type": "contour"
           }
          ],
          "contourcarpet": [
           {
            "colorbar": {
             "outlinewidth": 0,
             "ticks": ""
            },
            "type": "contourcarpet"
           }
          ],
          "heatmap": [
           {
            "colorbar": {
             "outlinewidth": 0,
             "ticks": ""
            },
            "colorscale": [
             [
              0,
              "#0d0887"
             ],
             [
              0.1111111111111111,
              "#46039f"
             ],
             [
              0.2222222222222222,
              "#7201a8"
             ],
             [
              0.3333333333333333,
              "#9c179e"
             ],
             [
              0.4444444444444444,
              "#bd3786"
             ],
             [
              0.5555555555555556,
              "#d8576b"
             ],
             [
              0.6666666666666666,
              "#ed7953"
             ],
             [
              0.7777777777777778,
              "#fb9f3a"
             ],
             [
              0.8888888888888888,
              "#fdca26"
             ],
             [
              1,
              "#f0f921"
             ]
            ],
            "type": "heatmap"
           }
          ],
          "histogram": [
           {
            "marker": {
             "pattern": {
              "fillmode": "overlay",
              "size": 10,
              "solidity": 0.2
             }
            },
            "type": "histogram"
           }
          ],
          "histogram2d": [
           {
            "colorbar": {
             "outlinewidth": 0,
             "ticks": ""
            },
            "colorscale": [
             [
              0,
              "#0d0887"
             ],
             [
              0.1111111111111111,
              "#46039f"
             ],
             [
              0.2222222222222222,
              "#7201a8"
             ],
             [
              0.3333333333333333,
              "#9c179e"
             ],
             [
              0.4444444444444444,
              "#bd3786"
             ],
             [
              0.5555555555555556,
              "#d8576b"
             ],
             [
              0.6666666666666666,
              "#ed7953"
             ],
             [
              0.7777777777777778,
              "#fb9f3a"
             ],
             [
              0.8888888888888888,
              "#fdca26"
             ],
             [
              1,
              "#f0f921"
             ]
            ],
            "type": "histogram2d"
           }
          ],
          "histogram2dcontour": [
           {
            "colorbar": {
             "outlinewidth": 0,
             "ticks": ""
            },
            "colorscale": [
             [
              0,
              "#0d0887"
             ],
             [
              0.1111111111111111,
              "#46039f"
             ],
             [
              0.2222222222222222,
              "#7201a8"
             ],
             [
              0.3333333333333333,
              "#9c179e"
             ],
             [
              0.4444444444444444,
              "#bd3786"
             ],
             [
              0.5555555555555556,
              "#d8576b"
             ],
             [
              0.6666666666666666,
              "#ed7953"
             ],
             [
              0.7777777777777778,
              "#fb9f3a"
             ],
             [
              0.8888888888888888,
              "#fdca26"
             ],
             [
              1,
              "#f0f921"
             ]
            ],
            "type": "histogram2dcontour"
           }
          ],
          "mesh3d": [
           {
            "colorbar": {
             "outlinewidth": 0,
             "ticks": ""
            },
            "type": "mesh3d"
           }
          ],
          "parcoords": [
           {
            "line": {
             "colorbar": {
              "outlinewidth": 0,
              "ticks": ""
             }
            },
            "type": "parcoords"
           }
          ],
          "pie": [
           {
            "automargin": true,
            "type": "pie"
           }
          ],
          "scatter": [
           {
            "fillpattern": {
             "fillmode": "overlay",
             "size": 10,
             "solidity": 0.2
            },
            "type": "scatter"
           }
          ],
          "scatter3d": [
           {
            "line": {
             "colorbar": {
              "outlinewidth": 0,
              "ticks": ""
             }
            },
            "marker": {
             "colorbar": {
              "outlinewidth": 0,
              "ticks": ""
             }
            },
            "type": "scatter3d"
           }
          ],
          "scattercarpet": [
           {
            "marker": {
             "colorbar": {
              "outlinewidth": 0,
              "ticks": ""
             }
            },
            "type": "scattercarpet"
           }
          ],
          "scattergeo": [
           {
            "marker": {
             "colorbar": {
              "outlinewidth": 0,
              "ticks": ""
             }
            },
            "type": "scattergeo"
           }
          ],
          "scattergl": [
           {
            "marker": {
             "colorbar": {
              "outlinewidth": 0,
              "ticks": ""
             }
            },
            "type": "scattergl"
           }
          ],
          "scattermap": [
           {
            "marker": {
             "colorbar": {
              "outlinewidth": 0,
              "ticks": ""
             }
            },
            "type": "scattermap"
           }
          ],
          "scattermapbox": [
           {
            "marker": {
             "colorbar": {
              "outlinewidth": 0,
              "ticks": ""
             }
            },
            "type": "scattermapbox"
           }
          ],
          "scatterpolar": [
           {
            "marker": {
             "colorbar": {
              "outlinewidth": 0,
              "ticks": ""
             }
            },
            "type": "scatterpolar"
           }
          ],
          "scatterpolargl": [
           {
            "marker": {
             "colorbar": {
              "outlinewidth": 0,
              "ticks": ""
             }
            },
            "type": "scatterpolargl"
           }
          ],
          "scatterternary": [
           {
            "marker": {
             "colorbar": {
              "outlinewidth": 0,
              "ticks": ""
             }
            },
            "type": "scatterternary"
           }
          ],
          "surface": [
           {
            "colorbar": {
             "outlinewidth": 0,
             "ticks": ""
            },
            "colorscale": [
             [
              0,
              "#0d0887"
             ],
             [
              0.1111111111111111,
              "#46039f"
             ],
             [
              0.2222222222222222,
              "#7201a8"
             ],
             [
              0.3333333333333333,
              "#9c179e"
             ],
             [
              0.4444444444444444,
              "#bd3786"
             ],
             [
              0.5555555555555556,
              "#d8576b"
             ],
             [
              0.6666666666666666,
              "#ed7953"
             ],
             [
              0.7777777777777778,
              "#fb9f3a"
             ],
             [
              0.8888888888888888,
              "#fdca26"
             ],
             [
              1,
              "#f0f921"
             ]
            ],
            "type": "surface"
           }
          ],
          "table": [
           {
            "cells": {
             "fill": {
              "color": "#EBF0F8"
             },
             "line": {
              "color": "white"
             }
            },
            "header": {
             "fill": {
              "color": "#C8D4E3"
             },
             "line": {
              "color": "white"
             }
            },
            "type": "table"
           }
          ]
         },
         "layout": {
          "annotationdefaults": {
           "arrowcolor": "#2a3f5f",
           "arrowhead": 0,
           "arrowwidth": 1
          },
          "autotypenumbers": "strict",
          "coloraxis": {
           "colorbar": {
            "outlinewidth": 0,
            "ticks": ""
           }
          },
          "colorscale": {
           "diverging": [
            [
             0,
             "#8e0152"
            ],
            [
             0.1,
             "#c51b7d"
            ],
            [
             0.2,
             "#de77ae"
            ],
            [
             0.3,
             "#f1b6da"
            ],
            [
             0.4,
             "#fde0ef"
            ],
            [
             0.5,
             "#f7f7f7"
            ],
            [
             0.6,
             "#e6f5d0"
            ],
            [
             0.7,
             "#b8e186"
            ],
            [
             0.8,
             "#7fbc41"
            ],
            [
             0.9,
             "#4d9221"
            ],
            [
             1,
             "#276419"
            ]
           ],
           "sequential": [
            [
             0,
             "#0d0887"
            ],
            [
             0.1111111111111111,
             "#46039f"
            ],
            [
             0.2222222222222222,
             "#7201a8"
            ],
            [
             0.3333333333333333,
             "#9c179e"
            ],
            [
             0.4444444444444444,
             "#bd3786"
            ],
            [
             0.5555555555555556,
             "#d8576b"
            ],
            [
             0.6666666666666666,
             "#ed7953"
            ],
            [
             0.7777777777777778,
             "#fb9f3a"
            ],
            [
             0.8888888888888888,
             "#fdca26"
            ],
            [
             1,
             "#f0f921"
            ]
           ],
           "sequentialminus": [
            [
             0,
             "#0d0887"
            ],
            [
             0.1111111111111111,
             "#46039f"
            ],
            [
             0.2222222222222222,
             "#7201a8"
            ],
            [
             0.3333333333333333,
             "#9c179e"
            ],
            [
             0.4444444444444444,
             "#bd3786"
            ],
            [
             0.5555555555555556,
             "#d8576b"
            ],
            [
             0.6666666666666666,
             "#ed7953"
            ],
            [
             0.7777777777777778,
             "#fb9f3a"
            ],
            [
             0.8888888888888888,
             "#fdca26"
            ],
            [
             1,
             "#f0f921"
            ]
           ]
          },
          "colorway": [
           "#636efa",
           "#EF553B",
           "#00cc96",
           "#ab63fa",
           "#FFA15A",
           "#19d3f3",
           "#FF6692",
           "#B6E880",
           "#FF97FF",
           "#FECB52"
          ],
          "font": {
           "color": "#2a3f5f"
          },
          "geo": {
           "bgcolor": "white",
           "lakecolor": "white",
           "landcolor": "#E5ECF6",
           "showlakes": true,
           "showland": true,
           "subunitcolor": "white"
          },
          "hoverlabel": {
           "align": "left"
          },
          "hovermode": "closest",
          "mapbox": {
           "style": "light"
          },
          "paper_bgcolor": "white",
          "plot_bgcolor": "#E5ECF6",
          "polar": {
           "angularaxis": {
            "gridcolor": "white",
            "linecolor": "white",
            "ticks": ""
           },
           "bgcolor": "#E5ECF6",
           "radialaxis": {
            "gridcolor": "white",
            "linecolor": "white",
            "ticks": ""
           }
          },
          "scene": {
           "xaxis": {
            "backgroundcolor": "#E5ECF6",
            "gridcolor": "white",
            "gridwidth": 2,
            "linecolor": "white",
            "showbackground": true,
            "ticks": "",
            "zerolinecolor": "white"
           },
           "yaxis": {
            "backgroundcolor": "#E5ECF6",
            "gridcolor": "white",
            "gridwidth": 2,
            "linecolor": "white",
            "showbackground": true,
            "ticks": "",
            "zerolinecolor": "white"
           },
           "zaxis": {
            "backgroundcolor": "#E5ECF6",
            "gridcolor": "white",
            "gridwidth": 2,
            "linecolor": "white",
            "showbackground": true,
            "ticks": "",
            "zerolinecolor": "white"
           }
          },
          "shapedefaults": {
           "line": {
            "color": "#2a3f5f"
           }
          },
          "ternary": {
           "aaxis": {
            "gridcolor": "white",
            "linecolor": "white",
            "ticks": ""
           },
           "baxis": {
            "gridcolor": "white",
            "linecolor": "white",
            "ticks": ""
           },
           "bgcolor": "#E5ECF6",
           "caxis": {
            "gridcolor": "white",
            "linecolor": "white",
            "ticks": ""
           }
          },
          "title": {
           "x": 0.05
          },
          "xaxis": {
           "automargin": true,
           "gridcolor": "white",
           "linecolor": "white",
           "ticks": "",
           "title": {
            "standoff": 15
           },
           "zerolinecolor": "white",
           "zerolinewidth": 2
          },
          "yaxis": {
           "automargin": true,
           "gridcolor": "white",
           "linecolor": "white",
           "ticks": "",
           "title": {
            "standoff": 15
           },
           "zerolinecolor": "white",
           "zerolinewidth": 2
          }
         }
        },
        "title": {
         "text": "Skater G distribution"
        },
        "xaxis": {
         "anchor": "y",
         "domain": [
          0,
          1
         ],
         "title": {
          "text": "G"
         }
        },
        "yaxis": {
         "anchor": "x",
         "domain": [
          0,
          1
         ],
         "title": {
          "text": "count"
         }
        }
       }
      }
     },
     "metadata": {},
     "output_type": "display_data"
    }
   ],
   "source": [
    "\n",
    "display(skaters.describe(include='all').T.head(20))\n",
    "display(goalies.describe(include='all').T.head(20))\n",
    "\n",
    "# If goal columns exist, visualize distribution\n",
    "for gcol in [\"G\",\"Goals\",\"goals\"]:\n",
    "    if gcol in skaters.columns:\n",
    "        fig = px.histogram(skaters, x=gcol, nbins=30, title=f\"Skater {gcol} distribution\")\n",
    "        fig.show()\n",
    "        break\n",
    "\n",
    "# Save EDA figures (Matplotlib example)\n",
    "plt.figure()\n",
    "numeric_cols = skaters.select_dtypes(include=np.number).columns[:10]\n",
    "skaters[numeric_cols].corr(numeric_only=True).abs().stack().nlargest(1)\n",
    "plt.title(\"Placeholder Figure\")\n",
    "plt.savefig(\"../figures/placeholder.png\", bbox_inches=\"tight\")\n",
    "plt.close()\n"
   ]
  },
  {
   "cell_type": "markdown",
   "id": "2f4399f4",
   "metadata": {},
   "source": [
    "## Skater classification target: `is_20_goals`"
   ]
  },
  {
   "cell_type": "code",
   "execution_count": 8,
   "id": "da50afb6",
   "metadata": {},
   "outputs": [
    {
     "name": "stdout",
     "output_type": "stream",
     "text": [
      "Class balance (is_20_goals):\n",
      "is_20_goals\n",
      "0    2377\n",
      "1     415\n",
      "Name: count, dtype: int64\n"
     ]
    },
    {
     "data": {
      "text/html": [
       "<div>\n",
       "<style scoped>\n",
       "    .dataframe tbody tr th:only-of-type {\n",
       "        vertical-align: middle;\n",
       "    }\n",
       "\n",
       "    .dataframe tbody tr th {\n",
       "        vertical-align: top;\n",
       "    }\n",
       "\n",
       "    .dataframe thead th {\n",
       "        text-align: right;\n",
       "    }\n",
       "</style>\n",
       "<table border=\"1\" class=\"dataframe\">\n",
       "  <thead>\n",
       "    <tr style=\"text-align: right;\">\n",
       "      <th></th>\n",
       "      <th>G</th>\n",
       "      <th>is_20_goals</th>\n",
       "    </tr>\n",
       "  </thead>\n",
       "  <tbody>\n",
       "    <tr>\n",
       "      <th>3683</th>\n",
       "      <td>64.0</td>\n",
       "      <td>1</td>\n",
       "    </tr>\n",
       "    <tr>\n",
       "      <th>3684</th>\n",
       "      <td>52.0</td>\n",
       "      <td>1</td>\n",
       "    </tr>\n",
       "    <tr>\n",
       "      <th>3685</th>\n",
       "      <td>30.0</td>\n",
       "      <td>1</td>\n",
       "    </tr>\n",
       "    <tr>\n",
       "      <th>3686</th>\n",
       "      <td>61.0</td>\n",
       "      <td>1</td>\n",
       "    </tr>\n",
       "    <tr>\n",
       "      <th>3687</th>\n",
       "      <td>42.0</td>\n",
       "      <td>1</td>\n",
       "    </tr>\n",
       "  </tbody>\n",
       "</table>\n",
       "</div>"
      ],
      "text/plain": [
       "         G  is_20_goals\n",
       "3683  64.0            1\n",
       "3684  52.0            1\n",
       "3685  30.0            1\n",
       "3686  61.0            1\n",
       "3687  42.0            1"
      ]
     },
     "execution_count": 8,
     "metadata": {},
     "output_type": "execute_result"
    }
   ],
   "source": [
    "GOAL_COL = next((c for c in [\"G\", \"Goals\", \"goals\"] if c in skaters.columns), None)\n",
    "if GOAL_COL is None:\n",
    "    raise ValueError(\"Could not find goals column in skater data (expected one of G/Goals/goals).\")\n",
    "\n",
    "skaters = skaters.copy()\n",
    "\n",
    "# ensure numeric and drop rows without a valid goals value\n",
    "skaters[GOAL_COL] = pd.to_numeric(skaters[GOAL_COL], errors=\"coerce\")\n",
    "skaters = skaters.dropna(subset=[GOAL_COL]).copy()\n",
    "\n",
    "skaters[\"is_20_goals\"] = (skaters[GOAL_COL] >= 20).astype(int)\n",
    "print(\"Class balance (is_20_goals):\")\n",
    "print(skaters[\"is_20_goals\"].value_counts())\n",
    "\n",
    "skaters[[GOAL_COL, \"is_20_goals\"]].head()"
   ]
  },
  {
   "cell_type": "markdown",
   "id": "08adb905",
   "metadata": {},
   "source": [
    "### Select feature columns for skater model"
   ]
  },
  {
   "cell_type": "code",
   "execution_count": 9,
   "id": "ccd75cf3",
   "metadata": {},
   "outputs": [
    {
     "name": "stdout",
     "output_type": "stream",
     "text": [
      "Skater numeric features (n): 14\n",
      "Skater categorical features: ['Team', 'Pos']\n",
      "GUARD (should be empty): []\n",
      "Skaters train/test shapes: (2094, 16) (698, 16)\n"
     ]
    }
   ],
   "source": [
    "# --- SKATERS: auto-detect columns, engineer rates, leak-guard (incl. leak scrub),\n",
    "#              pipeline (imputation+scaling), train/test split ---\n",
    "\n",
    "import numpy as np, pandas as pd, re\n",
    "from sklearn.model_selection import train_test_split\n",
    "from sklearn.preprocessing import RobustScaler, OneHotEncoder\n",
    "from sklearn.compose import ColumnTransformer\n",
    "from sklearn.impute import SimpleImputer\n",
    "from sklearn.pipeline import Pipeline\n",
    "\n",
    "def norm(s):  # lower + strip non-alphanum\n",
    "    return \"\".join(ch for ch in str(s).lower() if ch.isalnum())\n",
    "\n",
    "# map normalized -> original\n",
    "name_map = {norm(c): c for c in skaters.columns}\n",
    "def pick(*aliases):\n",
    "    for a in aliases:\n",
    "        k = norm(a)\n",
    "        if k in name_map:\n",
    "            return name_map[k]\n",
    "    return None\n",
    "\n",
    "# Try common headers\n",
    "A   = pick(\"A\",\"Assists\")\n",
    "S   = pick(\"S\",\"Shots\")\n",
    "SOG = pick(\"SOG\",\"ShotsOnGoal\",\"Shots on Goal\")\n",
    "TOI = pick(\"TOI\",\"Time On Ice\",\"Minutes\",\"TOI(min)\")\n",
    "PP  = pick(\"PP TOI\",\"PP_TOI\",\"TOI PP\",\"Powerplay TOI\")\n",
    "SH  = pick(\"SH TOI\",\"PK TOI\",\"Penalty Kill TOI\")\n",
    "CF  = pick(\"CF\",\"CorsiFor\")\n",
    "xG  = pick(\"xG\",\"expected_goals\")\n",
    "iCF = pick(\"iCF\")\n",
    "iHD = pick(\"iHDCF\",\"HDCF\")\n",
    "HIT = pick(\"Hits\")\n",
    "BLK = pick(\"Blocks\",\"Blk\")\n",
    "PIM = pick(\"PIM\")\n",
    "FO  = pick(\"FO%\",\"Faceoff%\",\"FO% Win\")\n",
    "GP  = pick(\"GP\",\"Games Played\")\n",
    "\n",
    "# ensure numerics\n",
    "for c in [A,S,SOG,TOI,PP,SH,CF,xG,iCF,iHD,HIT,BLK,PIM,FO,GP]:\n",
    "    if c and c in skaters.columns:\n",
    "        skaters[c] = pd.to_numeric(skaters[c], errors=\"coerce\")\n",
    "\n",
    "# Engineer rates\n",
    "skaters = skaters.copy()\n",
    "if TOI and skaters[TOI].notna().any():\n",
    "    base = skaters[TOI].replace(0, np.nan)\n",
    "    for c in [A,S,SOG,iCF,iHD,HIT,BLK,PIM]:\n",
    "        if c:\n",
    "            skaters[f\"{c}_per60\"] = skaters[c] / base * 60\n",
    "    if PP: skaters[\"PP_share\"] = skaters[PP] / base\n",
    "    if SH: skaters[\"SH_share\"] = skaters[SH] / base\n",
    "elif GP:\n",
    "    base = skaters[GP].replace(0, np.nan)\n",
    "    for c in [A,S,SOG,iCF,iHD,HIT,BLK,PIM]:\n",
    "        if c:\n",
    "            skaters[f\"{c}_pg\"] = skaters[c] / base\n",
    "\n",
    "# Candidate / auto features (initial guard)\n",
    "LEAKY = {GOAL_COL, \"G\",\"Goals\",\"goals\",\"P\",\"Points\",\"G/60\",\"Goals/60\",\"SH%\",\"Shooting%\",\"is_20_goals\",\"FP_skaters\"}\n",
    "curated = [c for c in [A,S,SOG,TOI,CF,xG,iCF,iHD,HIT,BLK,PIM,FO,\"PP_share\",\"SH_share\",\n",
    "                       f\"{A}_per60\",f\"{S}_per60\",f\"{SOG}_per60\",f\"{iCF}_per60\",f\"{iHD}_per60\",\n",
    "                       f\"{HIT}_per60\",f\"{BLK}_per60\",f\"{PIM}_per60\",\n",
    "                       f\"{A}_pg\",f\"{S}_pg\",f\"{SOG}_pg\"]\n",
    "           if isinstance(c,str) and c in skaters.columns]\n",
    "\n",
    "auto_num = []\n",
    "for c in skaters.select_dtypes(include=[np.number]).columns:\n",
    "    cl = c.lower()\n",
    "    if (c not in curated\n",
    "        and c not in LEAKY\n",
    "        and \"goal\" not in cl\n",
    "        and not c.endswith((\"_id\",\"id\"))\n",
    "        and skaters[c].nunique(dropna=True) > 5):\n",
    "        auto_num.append(c)\n",
    "\n",
    "features_skaters_num = sorted(set(curated + auto_num))\n",
    "features_skaters_cat = [c for c in skaters.select_dtypes(include=\"object\").columns\n",
    "                        if c in {\"Team\",\"team\",\"TeamName\",\"Pos\",\"Position\",\"Shoots\",\"playerTeam\"}]\n",
    "\n",
    "# 🔒 Leak scrub (removes goal-derived columns that slip through, e.g., EVG/PPG/SHG/etc.)\n",
    "LEAK_EXACT = {GOAL_COL, \"G\",\"Goals\",\"goals\",\"P\",\"Points\",\"Goals/60\",\"G/60\",\"SH%\",\"Shooting%\",\"is_20_goals\",\"FP_skaters\"}\n",
    "LEAK_SUBSTR = [\"evg\",\"ppg\",\"shg\",\"gwg\",\"otg\",\"eng\",\"emptynet\",\"goal/60\",\"goals/60\",\"goalsper60\",\"gper60\"]\n",
    "\n",
    "features_skaters_num = [c for c in features_skaters_num\n",
    "                        if c not in LEAK_EXACT and not any(s in c.lower() for s in LEAK_SUBSTR)]\n",
    "\n",
    "# Final guards: drop all-NaN/constant; replace inf with NaN\n",
    "features_skaters_num = [c for c in features_skaters_num\n",
    "                        if skaters[c].notna().sum() > 0 and skaters[c].nunique(dropna=True) > 1]\n",
    "skaters = skaters.replace([np.inf, -np.inf], np.nan)\n",
    "\n",
    "print(\"Skater numeric features (n):\", len(features_skaters_num))\n",
    "print(\"Skater categorical features:\", features_skaters_cat)\n",
    "print(\"GUARD (should be empty):\", [c for c in features_skaters_num if \"goal\" in c.lower() or c in {\"G\",\"Goals\",\"is_20_goals\"}])\n",
    "\n",
    "# Preprocess with imputation\n",
    "num_pipe = Pipeline([(\"impute\", SimpleImputer(strategy=\"median\")),\n",
    "                     (\"scale\", RobustScaler())])\n",
    "cat_pipe = Pipeline([(\"impute\", SimpleImputer(strategy=\"most_frequent\")),\n",
    "                     (\"onehot\", OneHotEncoder(handle_unknown=\"ignore\"))])\n",
    "\n",
    "preprocess = ColumnTransformer([\n",
    "    (\"num\", num_pipe, features_skaters_num),\n",
    "    (\"cat\", cat_pipe, features_skaters_cat),\n",
    "], remainder=\"drop\")\n",
    "\n",
    "# Matrices + split\n",
    "X = skaters[features_skaters_num + features_skaters_cat]\n",
    "y = skaters[\"is_20_goals\"]\n",
    "X_train, X_test, y_train, y_test = train_test_split(\n",
    "    X, y, test_size=0.25, random_state=42, stratify=y\n",
    ")\n",
    "\n",
    "print(\"Skaters train/test shapes:\", X_train.shape, X_test.shape)\n"
   ]
  },
  {
   "cell_type": "markdown",
   "id": "7ecba3fa",
   "metadata": {},
   "source": [
    "## Skaters Confusion Matrix"
   ]
  },
  {
   "cell_type": "code",
   "execution_count": 10,
   "id": "4646df6f",
   "metadata": {},
   "outputs": [
    {
     "ename": "NameError",
     "evalue": "name 'results_skaters' is not defined",
     "output_type": "error",
     "traceback": [
      "\u001b[31m---------------------------------------------------------------------------\u001b[39m",
      "\u001b[31mNameError\u001b[39m                                 Traceback (most recent call last)",
      "\u001b[36mCell\u001b[39m\u001b[36m \u001b[39m\u001b[32mIn[10]\u001b[39m\u001b[32m, line 1\u001b[39m\n\u001b[32m----> \u001b[39m\u001b[32m1\u001b[39m best_name = \u001b[38;5;28mmax\u001b[39m(\u001b[43mresults_skaters\u001b[49m, key=\u001b[38;5;28;01mlambda\u001b[39;00m m: m[\u001b[33m\"\u001b[39m\u001b[33mf1\u001b[39m\u001b[33m\"\u001b[39m])[\u001b[33m\"\u001b[39m\u001b[33mmodel\u001b[39m\u001b[33m\"\u001b[39m]\n\u001b[32m      2\u001b[39m best_pipe = Pipeline(steps=[(\u001b[33m\"\u001b[39m\u001b[33mprep\u001b[39m\u001b[33m\"\u001b[39m, preprocess), (\u001b[33m\"\u001b[39m\u001b[33mclf\u001b[39m\u001b[33m\"\u001b[39m, models[best_name])])\n\u001b[32m      3\u001b[39m best_pipe.fit(X_train, y_train)\n",
      "\u001b[31mNameError\u001b[39m: name 'results_skaters' is not defined"
     ]
    }
   ],
   "source": [
    "\n",
    "best_name = max(results_skaters, key=lambda m: m[\"f1\"])[\"model\"]\n",
    "best_pipe = Pipeline(steps=[(\"prep\", preprocess), (\"clf\", models[best_name])])\n",
    "best_pipe.fit(X_train, y_train)\n",
    "y_pred = best_pipe.predict(X_test)\n",
    "\n",
    "disp = ConfusionMatrixDisplay.from_estimator(best_pipe, X_test, y_test)\n",
    "plt.title(f\"Skaters: Confusion Matrix ({best_name})\")\n",
    "plt.show()\n",
    "\n",
    "if hasattr(best_pipe, \"predict_proba\"):\n",
    "    RocCurveDisplay.from_estimator(best_pipe, X_test, y_test)\n",
    "    plt.title(f\"Skaters: ROC Curve ({best_name})\")\n",
    "    plt.show()\n"
   ]
  },
  {
   "cell_type": "markdown",
   "id": "7fa0f5cf",
   "metadata": {},
   "source": [
    "## Goalie classification target: `is_above_median_sv`"
   ]
  },
  {
   "cell_type": "code",
   "execution_count": null,
   "id": "29d02b0a",
   "metadata": {},
   "outputs": [
    {
     "name": "stdout",
     "output_type": "stream",
     "text": [
      "Detected columns: \n",
      "  SV%  : SV \n",
      "  Saves: SV \n",
      "  SA   : None \n",
      "  GA   : GA \n",
      "  GP   : GP\n",
      "Median SV (normalized 0–1): 8.65\n",
      "is_above_median_sv\n",
      "1    113\n",
      "0    112\n",
      "Name: count, dtype: int64\n"
     ]
    },
    {
     "data": {
      "text/html": [
       "<div>\n",
       "<style scoped>\n",
       "    .dataframe tbody tr th:only-of-type {\n",
       "        vertical-align: middle;\n",
       "    }\n",
       "\n",
       "    .dataframe tbody tr th {\n",
       "        vertical-align: top;\n",
       "    }\n",
       "\n",
       "    .dataframe thead th {\n",
       "        text-align: right;\n",
       "    }\n",
       "</style>\n",
       "<table border=\"1\" class=\"dataframe\">\n",
       "  <thead>\n",
       "    <tr style=\"text-align: right;\">\n",
       "      <th></th>\n",
       "      <th>SV</th>\n",
       "      <th>SV_norm</th>\n",
       "      <th>is_above_median_sv</th>\n",
       "    </tr>\n",
       "  </thead>\n",
       "  <tbody>\n",
       "    <tr>\n",
       "      <th>346</th>\n",
       "      <td>1807.0</td>\n",
       "      <td>18.07</td>\n",
       "      <td>1</td>\n",
       "    </tr>\n",
       "    <tr>\n",
       "      <th>347</th>\n",
       "      <td>1928.0</td>\n",
       "      <td>19.28</td>\n",
       "      <td>1</td>\n",
       "    </tr>\n",
       "    <tr>\n",
       "      <th>348</th>\n",
       "      <td>1748.0</td>\n",
       "      <td>17.48</td>\n",
       "      <td>1</td>\n",
       "    </tr>\n",
       "    <tr>\n",
       "      <th>349</th>\n",
       "      <td>1632.0</td>\n",
       "      <td>16.32</td>\n",
       "      <td>1</td>\n",
       "    </tr>\n",
       "    <tr>\n",
       "      <th>350</th>\n",
       "      <td>1698.0</td>\n",
       "      <td>16.98</td>\n",
       "      <td>1</td>\n",
       "    </tr>\n",
       "  </tbody>\n",
       "</table>\n",
       "</div>"
      ],
      "text/plain": [
       "         SV  SV_norm  is_above_median_sv\n",
       "346  1807.0    18.07                   1\n",
       "347  1928.0    19.28                   1\n",
       "348  1748.0    17.48                   1\n",
       "349  1632.0    16.32                   1\n",
       "350  1698.0    16.98                   1"
      ]
     },
     "execution_count": 67,
     "metadata": {},
     "output_type": "execute_result"
    }
   ],
   "source": [
    "# --- Goalie classification target: is_above_median_sv (robust) ---\n",
    "\n",
    "import re\n",
    "import numpy as np\n",
    "import pandas as pd\n",
    "\n",
    "def norm(s: str) -> str:\n",
    "    # lowercase + keep only letters/numbers so \"SV%\" -> \"sv\"\n",
    "    return \"\".join(ch for ch in str(s).lower() if ch.isalnum())\n",
    "\n",
    "colmap = {norm(c): c for c in goalies.columns}\n",
    "\n",
    "def pick(*candidates):\n",
    "    \"\"\"Return the first existing column (fuzzy) from a list of candidate names.\"\"\"\n",
    "    for cand in candidates:\n",
    "        key = norm(cand)\n",
    "        if key in colmap:\n",
    "            return colmap[key]\n",
    "    return None\n",
    "\n",
    "# Try to find columns with many known variants\n",
    "SVPCT_COL = pick(\"SV%\", \"Sv%\", \"SVPCT\", \"SV PCT\", \"Save%\", \"Save %\", \"save_percentage\",\n",
    "                 \"svpercentage\", \"svpct\", \"svpctg\", \"svpct_5v5\", \"svpctall\")\n",
    "SAVES_COL = pick(\"Saves\", \"SV\", \"SavesTotal\")\n",
    "SA_COL    = pick(\"ShotsAgainst\", \"Shots Against\", \"SA\", \"Shots Faced\", \"ShotsFaced\", \"ShotsAg\")\n",
    "GA_COL    = pick(\"GA\", \"GoalsAgainst\", \"Goals Against\")\n",
    "GP_COL    = pick(\"GP\", \"Games\", \"GamesPlayed\", \"Games Played\")\n",
    "\n",
    "print(\"Detected columns:\",\n",
    "      \"\\n  SV%  :\", SVPCT_COL,\n",
    "      \"\\n  Saves:\", SAVES_COL,\n",
    "      \"\\n  SA   :\", SA_COL,\n",
    "      \"\\n  GA   :\", GA_COL,\n",
    "      \"\\n  GP   :\", GP_COL)\n",
    "\n",
    "gdf = goalies.copy()\n",
    "\n",
    "# If no explicit SV% column, try to compute it\n",
    "if SVPCT_COL is None:\n",
    "    if SAVES_COL is not None and SA_COL is not None:\n",
    "        gdf[\"SV_computed\"] = pd.to_numeric(gdf[SAVES_COL], errors=\"coerce\") / \\\n",
    "                             pd.to_numeric(gdf[SA_COL], errors=\"coerce\")\n",
    "        SVPCT_COL = \"SV_computed\"\n",
    "        print(\"Computed SV% from Saves / ShotsAgainst.\")\n",
    "    elif SAVES_COL is not None and GA_COL is not None:\n",
    "        # SV% = SV / (SV + GA)\n",
    "        sv = pd.to_numeric(gdf[SAVES_COL], errors=\"coerce\")\n",
    "        ga = pd.to_numeric(gdf[GA_COL], errors=\"coerce\")\n",
    "        gdf[\"SV_computed\"] = sv / (sv + ga)\n",
    "        SVPCT_COL = \"SV_computed\"\n",
    "        print(\"Computed SV% from Saves / (Saves + GA).\")\n",
    "    elif SA_COL is not None and GA_COL is not None:\n",
    "        # SV% = 1 - GA / SA\n",
    "        sa = pd.to_numeric(gdf[SA_COL], errors=\"coerce\")\n",
    "        ga = pd.to_numeric(gdf[GA_COL], errors=\"coerce\")\n",
    "        gdf[\"SV_computed\"] = 1.0 - (ga / sa)\n",
    "        SVPCT_COL = \"SV_computed\"\n",
    "        print(\"Computed SV% from 1 - GA / SA.\")\n",
    "    else:\n",
    "        raise ValueError(\n",
    "            \"Could not find or derive save%: need one of\\n\"\n",
    "            \"  • explicit SV% column, or\\n\"\n",
    "            \"  • (Saves & ShotsAgainst), or\\n\"\n",
    "            \"  • (Saves & GA), or\\n\"\n",
    "            \"  • (SA & GA).\\n\"\n",
    "            f\"Available columns: {list(goalies.columns)}\"\n",
    "        )\n",
    "\n",
    "# Clean/normalize the SV% column (handle '91.3', '0.913', '91.3%')\n",
    "sv = (gdf[SVPCT_COL]\n",
    "      .astype(str)\n",
    "      .str.replace(\"%\", \"\", regex=False)\n",
    "      .str.strip())\n",
    "sv = pd.to_numeric(sv, errors=\"coerce\")\n",
    "\n",
    "# If looks like 0–100 scale, convert to 0–1\n",
    "if sv.dropna().max() > 1.5:\n",
    "    sv = sv / 100.0\n",
    "\n",
    "gdf[\"SV_norm\"] = sv\n",
    "\n",
    "# Optional: filter out tiny samples if GP is present\n",
    "if GP_COL is not None and GP_COL in gdf.columns:\n",
    "    gdf = gdf[pd.to_numeric(gdf[GP_COL], errors=\"coerce\") >= 10].copy()\n",
    "\n",
    "# Build target\n",
    "median_sv = gdf[\"SV_norm\"].median(skipna=True)\n",
    "gdf[\"is_above_median_sv\"] = (gdf[\"SV_norm\"] >= median_sv).astype(int)\n",
    "\n",
    "print(\"Median SV (normalized 0–1):\", round(float(median_sv), 4))\n",
    "print(gdf[\"is_above_median_sv\"].value_counts(dropna=False))\n",
    "\n",
    "# Peek\n",
    "gdf[[SVPCT_COL, \"SV_norm\", \"is_above_median_sv\"]].head()\n"
   ]
  },
  {
   "cell_type": "code",
   "execution_count": null,
   "id": "e532b776",
   "metadata": {},
   "outputs": [
    {
     "name": "stdout",
     "output_type": "stream",
     "text": [
      "Goalie numeric features (n): 3\n",
      "List (first 12): ['GP', 'SO', 'W']\n",
      "Goalies train/test shapes: (168, 4) (57, 4)\n"
     ]
    }
   ],
   "source": [
    "# --- GOALIES: auto-detect columns, engineer per-60/win_rate/GAA, leak-guard (incl. leak scrub),\n",
    "#              pipeline (imputation+scaling), train/test split ---\n",
    "\n",
    "import numpy as np, pandas as pd\n",
    "from sklearn.model_selection import train_test_split\n",
    "from sklearn.preprocessing import RobustScaler, OneHotEncoder\n",
    "from sklearn.compose import ColumnTransformer\n",
    "from sklearn.impute import SimpleImputer\n",
    "from sklearn.pipeline import Pipeline\n",
    "\n",
    "def norm(s): \n",
    "    return \"\".join(ch for ch in str(s).lower() if ch.isalnum())\n",
    "\n",
    "name_map_g = {norm(c): c for c in gdf.columns}\n",
    "def pickg(*aliases):\n",
    "    for a in aliases:\n",
    "        k = norm(a)\n",
    "        if k in name_map_g:\n",
    "            return name_map_g[k]\n",
    "    return None\n",
    "\n",
    "# Fuzzy pick common headers\n",
    "SA  = pickg(\"ShotsAgainst\",\"Shots Against\",\"SA\",\"ShotsFaced\",\"ShotsAg\",\"SAg\")\n",
    "SV  = pickg(\"Saves\",\"SV\",\"Sv\")\n",
    "GA  = pickg(\"GA\",\"GoalsAgainst\",\"Goals Against\")\n",
    "TOI = pickg(\"TOI\",\"Minutes\",\"Min\")\n",
    "W   = pickg(\"Wins\",\"W\")\n",
    "L   = pickg(\"Losses\",\"L\")\n",
    "SO  = pickg(\"SO\",\"Shutouts\")\n",
    "GAA = pickg(\"GAA\")\n",
    "\n",
    "# Ensure numerics\n",
    "for c in [SA,SV,GA,TOI,W,L,SO,GAA]:\n",
    "    if c and c in gdf.columns:\n",
    "        gdf[c] = pd.to_numeric(gdf[c], errors=\"coerce\")\n",
    "\n",
    "# Derived features\n",
    "gdf = gdf.copy()\n",
    "if TOI:\n",
    "    base = gdf[TOI].replace(0, np.nan)\n",
    "    if SA: gdf[\"SA_per60\"] = gdf[SA] / base * 60\n",
    "    if SV: gdf[\"SV_per60\"] = gdf[SV] / base * 60\n",
    "    if GA: gdf[\"GA_per60\"] = gdf[GA] / base * 60\n",
    "if (not GAA) and GA and TOI:\n",
    "    gdf[\"GAA\"] = 60.0 * gdf[GA] / gdf[TOI].replace(0, np.nan)\n",
    "if W and L:\n",
    "    denom = (gdf[W] + gdf[L]).replace(0, np.nan)\n",
    "    gdf[\"win_rate\"] = gdf[W] / denom\n",
    "\n",
    "# Initial features (avoid obvious leaks)\n",
    "leaks = {str(SVPCT_COL or \"\"), \"SV_norm\", \"SV_computed\", \"is_above_median_sv\"}\n",
    "curated_g = [c for c in [GAA,\"GSAA\",\"QS%\",\"RBS\",SO,W,L,SA,SV,TOI,\n",
    "                         \"SA_per60\",\"SV_per60\",\"GA_per60\",\"win_rate\"]\n",
    "             if isinstance(c,str) and c in gdf.columns]\n",
    "\n",
    "auto_num_g = []\n",
    "for c in gdf.select_dtypes(include=[np.number]).columns:\n",
    "    cl = c.lower()\n",
    "    if (c not in curated_g\n",
    "        and c not in leaks\n",
    "        and \"save\" not in cl and \"sv\" not in cl\n",
    "        and gdf[c].nunique(dropna=True) > 5):\n",
    "        auto_num_g.append(c)\n",
    "\n",
    "features_goalies_num = sorted(set(curated_g + auto_num_g))\n",
    "features_goalies_cat = [c for c in gdf.select_dtypes(include=\"object\").columns\n",
    "                        if c in {\"Team\",\"team\"}]\n",
    "\n",
    "# 🔒 Leak scrub: anything that directly/indirectly reconstructs save%\n",
    "LEAK_EXACT_G = {\"SV\",\"Saves\",\"GA\",\"GoalsAgainst\",\"GAA\",\"GSAA\",\"QS%\",\"SV_norm\",\"SV_computed\",\n",
    "                \"SA_per60\",\"SV_per60\",\"GA_per60\",\"FP_goalies\",\"is_above_median_sv\"}\n",
    "LEAK_SUBSTR_G = [\"sv%\",\"save%\",\"savepct\",\"svpct\",\"gaa\",\"gsaa\",\"qs\"]\n",
    "\n",
    "features_goalies_num = [c for c in features_goalies_num\n",
    "                        if c not in LEAK_EXACT_G and not any(s in c.lower() for s in LEAK_SUBSTR_G)]\n",
    "\n",
    "# Final guards\n",
    "features_goalies_num = [c for c in features_goalies_num\n",
    "                        if gdf[c].notna().sum() > 0 and gdf[c].nunique(dropna=True) > 1]\n",
    "gdf = gdf.replace([np.inf, -np.inf], np.nan)\n",
    "\n",
    "print(\"Goalie numeric features (n):\", len(features_goalies_num))\n",
    "print(\"List (first 12):\", features_goalies_num[:12])\n",
    "\n",
    "# Preprocess with imputation\n",
    "num_pipe_g = Pipeline([(\"impute\", SimpleImputer(strategy=\"median\")),\n",
    "                       (\"scale\", RobustScaler())])\n",
    "cat_pipe_g = Pipeline([(\"impute\", SimpleImputer(strategy=\"most_frequent\")),\n",
    "                       (\"onehot\", OneHotEncoder(handle_unknown=\"ignore\"))])\n",
    "\n",
    "preprocess_g = ColumnTransformer([\n",
    "    (\"num\", num_pipe_g, features_goalies_num),\n",
    "    (\"cat\", cat_pipe_g, features_goalies_cat),\n",
    "], remainder=\"drop\")\n",
    "\n",
    "# Matrices + split\n",
    "X_g = gdf[features_goalies_num + features_goalies_cat]\n",
    "y_g = gdf[\"is_above_median_sv\"]\n",
    "Xg_train, Xg_test, yg_train, yg_test = train_test_split(\n",
    "    X_g, y_g, test_size=0.25, random_state=42, stratify=y_g\n",
    ")\n",
    "\n",
    "print(\"Goalies train/test shapes:\", Xg_train.shape, Xg_test.shape)\n"
   ]
  },
  {
   "cell_type": "code",
   "execution_count": null,
   "id": "6d8a49cf",
   "metadata": {},
   "outputs": [
    {
     "data": {
      "image/png": "[encoded data removed]",
      "text/plain": [
       "<Figure size 640x480 with 2 Axes>"
      ]
     },
     "metadata": {},
     "output_type": "display_data"
    },
    {
     "data": {
      "image/png": "[encoded data removed]",
      "text/plain": [
       "<Figure size 640x480 with 1 Axes>"
      ]
     },
     "metadata": {},
     "output_type": "display_data"
    }
   ],
   "source": [
    "\n",
    "best_name_g = max(results_goalies, key=lambda m: m[\"f1\"])[\"model\"]\n",
    "best_pipe_g = Pipeline(steps=[(\"prep\", preprocess_g), (\"clf\", models_g[best_name_g])])\n",
    "best_pipe_g.fit(Xg_train, yg_train)\n",
    "\n",
    "ConfusionMatrixDisplay.from_estimator(best_pipe_g, Xg_test, yg_test)\n",
    "plt.title(f\"Goalies: Confusion Matrix ({best_name_g})\")\n",
    "plt.show()\n",
    "\n",
    "if hasattr(best_pipe_g, \"predict_proba\"):\n",
    "    RocCurveDisplay.from_estimator(best_pipe_g, Xg_test, yg_test)\n",
    "    plt.title(f\"Goalies: ROC Curve ({best_name_g})\")\n",
    "    plt.show()\n"
   ]
  },
  {
   "cell_type": "markdown",
   "id": "b764fd1f",
   "metadata": {},
   "source": [
    "## Skaters PoC Pack\n",
    "- train and evaluate"
   ]
  },
  {
   "cell_type": "code",
   "execution_count": null,
   "id": "87d6f06b",
   "metadata": {},
   "outputs": [
    {
     "data": {
      "text/html": [
       "<div>\n",
       "<style scoped>\n",
       "    .dataframe tbody tr th:only-of-type {\n",
       "        vertical-align: middle;\n",
       "    }\n",
       "\n",
       "    .dataframe tbody tr th {\n",
       "        vertical-align: top;\n",
       "    }\n",
       "\n",
       "    .dataframe thead th {\n",
       "        text-align: right;\n",
       "    }\n",
       "</style>\n",
       "<table border=\"1\" class=\"dataframe\">\n",
       "  <thead>\n",
       "    <tr style=\"text-align: right;\">\n",
       "      <th></th>\n",
       "      <th>model</th>\n",
       "      <th>accuracy</th>\n",
       "      <th>precision</th>\n",
       "      <th>recall</th>\n",
       "      <th>f1</th>\n",
       "      <th>roc_auc</th>\n",
       "    </tr>\n",
       "  </thead>\n",
       "  <tbody>\n",
       "    <tr>\n",
       "      <th>0</th>\n",
       "      <td>LogReg</td>\n",
       "      <td>0.932665</td>\n",
       "      <td>0.705036</td>\n",
       "      <td>0.942308</td>\n",
       "      <td>0.806584</td>\n",
       "      <td>0.983602</td>\n",
       "    </tr>\n",
       "    <tr>\n",
       "      <th>2</th>\n",
       "      <td>SVM</td>\n",
       "      <td>0.932665</td>\n",
       "      <td>0.711111</td>\n",
       "      <td>0.923077</td>\n",
       "      <td>0.803347</td>\n",
       "      <td>0.979976</td>\n",
       "    </tr>\n",
       "    <tr>\n",
       "      <th>3</th>\n",
       "      <td>RF</td>\n",
       "      <td>0.944126</td>\n",
       "      <td>0.873563</td>\n",
       "      <td>0.730769</td>\n",
       "      <td>0.795812</td>\n",
       "      <td>0.978390</td>\n",
       "    </tr>\n",
       "    <tr>\n",
       "      <th>1</th>\n",
       "      <td>KNN</td>\n",
       "      <td>0.934097</td>\n",
       "      <td>0.845238</td>\n",
       "      <td>0.682692</td>\n",
       "      <td>0.755319</td>\n",
       "      <td>0.947107</td>\n",
       "    </tr>\n",
       "  </tbody>\n",
       "</table>\n",
       "</div>"
      ],
      "text/plain": [
       "    model  accuracy  precision    recall        f1   roc_auc\n",
       "0  LogReg  0.932665   0.705036  0.942308  0.806584  0.983602\n",
       "2     SVM  0.932665   0.711111  0.923077  0.803347  0.979976\n",
       "3      RF  0.944126   0.873563  0.730769  0.795812  0.978390\n",
       "1     KNN  0.934097   0.845238  0.682692  0.755319  0.947107"
      ]
     },
     "metadata": {},
     "output_type": "display_data"
    },
    {
     "name": "stdout",
     "output_type": "stream",
     "text": [
      "Saved artifacts for skaters → reports/, figures/, artifacts/\n"
     ]
    }
   ],
   "source": [
    "# SKATERS: train/evaluate, choose best model, tune threshold, export artifacts\n",
    "\n",
    "import os, json, numpy as np, pandas as pd, matplotlib.pyplot as plt\n",
    "from joblib import dump\n",
    "from sklearn.pipeline import Pipeline\n",
    "from sklearn.metrics import (accuracy_score, precision_score, recall_score, f1_score,\n",
    "                             roc_auc_score, ConfusionMatrixDisplay, RocCurveDisplay,\n",
    "                             precision_recall_curve)\n",
    "\n",
    "os.makedirs(\"figures\", exist_ok=True)\n",
    "os.makedirs(\"reports\", exist_ok=True)\n",
    "os.makedirs(\"artifacts\", exist_ok=True)\n",
    "\n",
    "models = {\n",
    "    \"LogReg\": LogisticRegression(max_iter=1000, class_weight=\"balanced\"),\n",
    "    \"KNN\":    KNeighborsClassifier(n_neighbors=7),\n",
    "    \"SVM\":    SVC(probability=True, kernel=\"rbf\", class_weight=\"balanced\"),\n",
    "    \"RF\":     RandomForestClassifier(n_estimators=500, random_state=42,\n",
    "                                     class_weight=\"balanced_subsample\")\n",
    "}\n",
    "\n",
    "# Train/eval all\n",
    "rows = []\n",
    "pipes = {}\n",
    "for name, clf in models.items():\n",
    "    pipe = Pipeline([(\"prep\", preprocess), (\"clf\", clf)])\n",
    "    pipe.fit(X_train, y_train)\n",
    "    pipes[name] = pipe\n",
    "    y_pred = pipe.predict(X_test)\n",
    "    y_proba = pipe.predict_proba(X_test)[:, 1]\n",
    "    rows.append({\n",
    "        \"model\": name,\n",
    "        \"accuracy\": accuracy_score(y_test, y_pred),\n",
    "        \"precision\": precision_score(y_test, y_pred, zero_division=0),\n",
    "        \"recall\": recall_score(y_test, y_pred, zero_division=0),\n",
    "        \"f1\": f1_score(y_test, y_pred, zero_division=0),\n",
    "        \"roc_auc\": roc_auc_score(y_test, y_proba)\n",
    "    })\n",
    "\n",
    "sk_results = pd.DataFrame(rows).sort_values(\"f1\", ascending=False)\n",
    "display(sk_results)\n",
    "sk_results.to_csv(\"reports/skaters_model_metrics.csv\", index=False)\n",
    "\n",
    "# Choose best by F1 and refit\n",
    "best_name = sk_results.iloc[0][\"model\"]\n",
    "best_pipe = pipes[best_name]\n",
    "\n",
    "# Threshold tuning by F1 on the test scores\n",
    "proba = best_pipe.predict_proba(X_test)[:, 1]\n",
    "prec, rec, thr = precision_recall_curve(y_test, proba)\n",
    "f1_vals = 2 * prec * rec / (prec + rec + 1e-9)\n",
    "best_thr = float(thr[np.nanargmax(f1_vals[:-1])])  # align with f1_vals[:-1]\n",
    "y_pred_default = best_pipe.predict(X_test)\n",
    "y_pred_tuned = (proba >= best_thr).astype(int)\n",
    "\n",
    "# Save summary\n",
    "summary = {\n",
    "    \"best_model\": best_name,\n",
    "    \"best_threshold\": round(best_thr, 3),\n",
    "    \"metrics_default\": {\n",
    "        \"accuracy\": accuracy_score(y_test, y_pred_default),\n",
    "        \"precision\": precision_score(y_test, y_pred_default, zero_division=0),\n",
    "        \"recall\": recall_score(y_test, y_pred_default, zero_division=0),\n",
    "        \"f1\": f1_score(y_test, y_pred_default, zero_division=0),\n",
    "        \"roc_auc\": roc_auc_score(y_test, proba),\n",
    "    },\n",
    "    \"metrics_tuned\": {\n",
    "        \"accuracy\": accuracy_score(y_test, y_pred_tuned),\n",
    "        \"precision\": precision_score(y_test, y_pred_tuned, zero_division=0),\n",
    "        \"recall\": recall_score(y_test, y_pred_tuned, zero_division=0),\n",
    "        \"f1\": f1_score(y_test, y_pred_tuned, zero_division=0),\n",
    "    }\n",
    "}\n",
    "with open(\"reports/skaters_summary.json\", \"w\") as f:\n",
    "    json.dump(summary, f, indent=2)\n",
    "\n",
    "# Figures\n",
    "ConfusionMatrixDisplay.from_predictions(y_test, y_pred_default)\n",
    "plt.title(f\"Skaters Confusion Matrix ({best_name} @0.50)\")\n",
    "plt.savefig(\"figures/skaters_confusion_default.png\", bbox_inches=\"tight\"); plt.close()\n",
    "\n",
    "ConfusionMatrixDisplay.from_predictions(y_test, y_pred_tuned)\n",
    "plt.title(f\"Skaters Confusion Matrix ({best_name} @{best_thr:.2f})\")\n",
    "plt.savefig(\"figures/skaters_confusion_tuned.png\", bbox_inches=\"tight\"); plt.close()\n",
    "\n",
    "RocCurveDisplay.from_estimator(best_pipe, X_test, y_test)\n",
    "plt.title(f\"Skaters ROC ({best_name})\")\n",
    "plt.savefig(\"figures/skaters_roc.png\", bbox_inches=\"tight\"); plt.close()\n",
    "\n",
    "# Export trained pipeline\n",
    "dump(best_pipe, \"artifacts/skaters_best_pipeline.joblib\")\n",
    "print(\"Saved artifacts for skaters → reports/, figures/, artifacts/\")\n"
   ]
  },
  {
   "cell_type": "markdown",
   "id": "0003748f",
   "metadata": {},
   "source": [
    "## Goalies PoC pack"
   ]
  },
  {
   "cell_type": "code",
   "execution_count": null,
   "id": "09200169",
   "metadata": {},
   "outputs": [
    {
     "data": {
      "text/html": [
       "<div>\n",
       "<style scoped>\n",
       "    .dataframe tbody tr th:only-of-type {\n",
       "        vertical-align: middle;\n",
       "    }\n",
       "\n",
       "    .dataframe tbody tr th {\n",
       "        vertical-align: top;\n",
       "    }\n",
       "\n",
       "    .dataframe thead th {\n",
       "        text-align: right;\n",
       "    }\n",
       "</style>\n",
       "<table border=\"1\" class=\"dataframe\">\n",
       "  <thead>\n",
       "    <tr style=\"text-align: right;\">\n",
       "      <th></th>\n",
       "      <th>model</th>\n",
       "      <th>accuracy</th>\n",
       "      <th>precision</th>\n",
       "      <th>recall</th>\n",
       "      <th>f1</th>\n",
       "      <th>roc_auc</th>\n",
       "    </tr>\n",
       "  </thead>\n",
       "  <tbody>\n",
       "    <tr>\n",
       "      <th>3</th>\n",
       "      <td>RF</td>\n",
       "      <td>0.912281</td>\n",
       "      <td>0.928571</td>\n",
       "      <td>0.896552</td>\n",
       "      <td>0.912281</td>\n",
       "      <td>0.973522</td>\n",
       "    </tr>\n",
       "    <tr>\n",
       "      <th>1</th>\n",
       "      <td>KNN</td>\n",
       "      <td>0.912281</td>\n",
       "      <td>0.961538</td>\n",
       "      <td>0.862069</td>\n",
       "      <td>0.909091</td>\n",
       "      <td>0.958744</td>\n",
       "    </tr>\n",
       "    <tr>\n",
       "      <th>0</th>\n",
       "      <td>LogReg</td>\n",
       "      <td>0.894737</td>\n",
       "      <td>0.960000</td>\n",
       "      <td>0.827586</td>\n",
       "      <td>0.888889</td>\n",
       "      <td>0.972906</td>\n",
       "    </tr>\n",
       "    <tr>\n",
       "      <th>2</th>\n",
       "      <td>SVM</td>\n",
       "      <td>0.894737</td>\n",
       "      <td>1.000000</td>\n",
       "      <td>0.793103</td>\n",
       "      <td>0.884615</td>\n",
       "      <td>0.981527</td>\n",
       "    </tr>\n",
       "  </tbody>\n",
       "</table>\n",
       "</div>"
      ],
      "text/plain": [
       "    model  accuracy  precision    recall        f1   roc_auc\n",
       "3      RF  0.912281   0.928571  0.896552  0.912281  0.973522\n",
       "1     KNN  0.912281   0.961538  0.862069  0.909091  0.958744\n",
       "0  LogReg  0.894737   0.960000  0.827586  0.888889  0.972906\n",
       "2     SVM  0.894737   1.000000  0.793103  0.884615  0.981527"
      ]
     },
     "metadata": {},
     "output_type": "display_data"
    },
    {
     "name": "stdout",
     "output_type": "stream",
     "text": [
      "Saved artifacts for goalies → reports/, figures/, artifacts/\n"
     ]
    }
   ],
   "source": [
    "# GOALIES: train/evaluate, choose best model, tune threshold, export artifacts\n",
    "\n",
    "import os, json, numpy as np, pandas as pd, matplotlib.pyplot as plt\n",
    "from joblib import dump\n",
    "from sklearn.pipeline import Pipeline\n",
    "from sklearn.metrics import (accuracy_score, precision_score, recall_score, f1_score,\n",
    "                             roc_auc_score, ConfusionMatrixDisplay, RocCurveDisplay,\n",
    "                             precision_recall_curve)\n",
    "\n",
    "os.makedirs(\"figures\", exist_ok=True)\n",
    "os.makedirs(\"reports\", exist_ok=True)\n",
    "os.makedirs(\"artifacts\", exist_ok=True)\n",
    "\n",
    "models_g = {\n",
    "    \"LogReg\": LogisticRegression(max_iter=1000, class_weight=\"balanced\"),\n",
    "    \"KNN\":    KNeighborsClassifier(n_neighbors=5),\n",
    "    \"SVM\":    SVC(probability=True, kernel=\"rbf\", class_weight=\"balanced\"),\n",
    "    \"RF\":     RandomForestClassifier(n_estimators=500, random_state=42,\n",
    "                                     class_weight=\"balanced_subsample\")\n",
    "}\n",
    "\n",
    "rows = []\n",
    "pipes_g = {}\n",
    "for name, clf in models_g.items():\n",
    "    pipe = Pipeline([(\"prep\", preprocess_g), (\"clf\", clf)])\n",
    "    pipe.fit(Xg_train, yg_train)\n",
    "    pipes_g[name] = pipe\n",
    "    y_pred = pipe.predict(Xg_test)\n",
    "    y_proba = pipe.predict_proba(Xg_test)[:, 1]\n",
    "    rows.append({\n",
    "        \"model\": name,\n",
    "        \"accuracy\": accuracy_score(yg_test, y_pred),\n",
    "        \"precision\": precision_score(yg_test, y_pred, zero_division=0),\n",
    "        \"recall\": recall_score(yg_test, y_pred, zero_division=0),\n",
    "        \"f1\": f1_score(yg_test, y_pred, zero_division=0),\n",
    "        \"roc_auc\": roc_auc_score(yg_test, y_proba)\n",
    "    })\n",
    "\n",
    "gl_results = pd.DataFrame(rows).sort_values(\"f1\", ascending=False)\n",
    "display(gl_results)\n",
    "gl_results.to_csv(\"reports/goalies_model_metrics.csv\", index=False)\n",
    "\n",
    "best_name_g = gl_results.iloc[0][\"model\"]\n",
    "best_pipe_g = pipes_g[best_name_g]\n",
    "\n",
    "proba = best_pipe_g.predict_proba(Xg_test)[:, 1]\n",
    "prec, rec, thr = precision_recall_curve(yg_test, proba)\n",
    "f1_vals = 2 * prec * rec / (prec + rec + 1e-9)\n",
    "best_thr_g = float(thr[np.nanargmax(f1_vals[:-1])])\n",
    "y_pred_default = best_pipe_g.predict(Xg_test)\n",
    "y_pred_tuned = (proba >= best_thr_g).astype(int)\n",
    "\n",
    "summary_g = {\n",
    "    \"best_model\": best_name_g,\n",
    "    \"best_threshold\": round(best_thr_g, 3),\n",
    "    \"metrics_default\": {\n",
    "        \"accuracy\": accuracy_score(yg_test, y_pred_default),\n",
    "        \"precision\": precision_score(yg_test, y_pred_default, zero_division=0),\n",
    "        \"recall\": recall_score(yg_test, y_pred_default, zero_division=0),\n",
    "        \"f1\": f1_score(yg_test, y_pred_default, zero_division=0),\n",
    "        \"roc_auc\": roc_auc_score(yg_test, proba),\n",
    "    },\n",
    "    \"metrics_tuned\": {\n",
    "        \"accuracy\": accuracy_score(yg_test, y_pred_tuned),\n",
    "        \"precision\": precision_score(yg_test, y_pred_tuned, zero_division=0),\n",
    "        \"recall\": recall_score(yg_test, y_pred_tuned, zero_division=0),\n",
    "        \"f1\": f1_score(yg_test, y_pred_tuned, zero_division=0),\n",
    "    }\n",
    "}\n",
    "with open(\"reports/goalies_summary.json\", \"w\") as f:\n",
    "    json.dump(summary_g, f, indent=2)\n",
    "\n",
    "ConfusionMatrixDisplay.from_predictions(yg_test, y_pred_default)\n",
    "plt.title(f\"Goalies Confusion Matrix ({best_name_g} @0.50)\")\n",
    "plt.savefig(\"figures/goalies_confusion_default.png\", bbox_inches=\"tight\"); plt.close()\n",
    "\n",
    "ConfusionMatrixDisplay.from_predictions(yg_test, y_pred_tuned)\n",
    "plt.title(f\"Goalies Confusion Matrix ({best_name_g} @{best_thr_g:.2f})\")\n",
    "plt.savefig(\"figures/goalies_confusion_tuned.png\", bbox_inches=\"tight\"); plt.close()\n",
    "\n",
    "RocCurveDisplay.from_estimator(best_pipe_g, Xg_test, yg_test)\n",
    "plt.title(f\"Goalies ROC ({best_name_g})\")\n",
    "plt.savefig(\"figures/goalies_roc.png\", bbox_inches=\"tight\"); plt.close()\n",
    "\n",
    "dump(best_pipe_g, \"artifacts/goalies_best_pipeline.joblib\")\n",
    "print(\"Saved artifacts for goalies → reports/, figures/, artifacts/\")\n"
   ]
  },
  {
   "cell_type": "markdown",
   "id": "34eaf607",
   "metadata": {},
   "source": [
    "## Apply Models based on scores"
   ]
  },
  {
   "cell_type": "code",
   "execution_count": null,
   "id": "ae3ecc6f",
   "metadata": {},
   "outputs": [
    {
     "name": "stdout",
     "output_type": "stream",
     "text": [
      "Wrote:\n",
      " - reports/skater_predictions.csv\n",
      " - reports/goalie_predictions.csv\n",
      "Using tuned thresholds: skaters=0.88, goalies=0.40\n"
     ]
    }
   ],
   "source": [
    "# Use saved best pipelines + thresholds to score full datasets and export CSVs\n",
    "\n",
    "import json, numpy as np, pandas as pd\n",
    "from joblib import load\n",
    "from pathlib import Path\n",
    "\n",
    "Path(\"reports\").mkdir(exist_ok=True)\n",
    "\n",
    "# --- Load best models + thresholds you saved earlier ---\n",
    "sk = json.load(open(\"reports/skaters_summary.json\"))\n",
    "gl = json.load(open(\"reports/goalies_summary.json\"))\n",
    "sk_thr = float(sk[\"best_threshold\"])\n",
    "gl_thr = float(gl[\"best_threshold\"])\n",
    "\n",
    "sk_pipe = load(\"artifacts/skaters_best_pipeline.joblib\")\n",
    "gl_pipe = load(\"artifacts/goalies_best_pipeline.joblib\")\n",
    "\n",
    "# Helper to pick a name column if available\n",
    "def pick_name(df):\n",
    "    for c in [\"Player\", \"Name\", \"playerName\", \"Skater\", \"Goalie\"]:\n",
    "        if c in df.columns: \n",
    "            return c\n",
    "    return None\n",
    "\n",
    "# --- Skaters: score everyone in the combined dataset ---\n",
    "sk_name = pick_name(skaters)\n",
    "X_all_sk = skaters[[*X.columns]]  # ensure same columns as training matrix\n",
    "proba_sk = sk_pipe.predict_proba(X_all_sk)[:, 1]\n",
    "pred_sk = (proba_sk >= sk_thr).astype(int)\n",
    "sk_out = pd.DataFrame({\n",
    "    \"prob_20_goals\": proba_sk,\n",
    "    \"pred_20_goals\": pred_sk\n",
    "}, index=skaters.index)\n",
    "if sk_name:\n",
    "    sk_out.insert(0, sk_name, skaters[sk_name].values)\n",
    "if \"Team\" in skaters.columns: \n",
    "    sk_out.insert(1, \"Team\", skaters[\"Team\"].values)\n",
    "sk_out.sort_values(\"prob_20_goals\", ascending=False, inplace=True)\n",
    "sk_out.to_csv(\"reports/skater_predictions.csv\", index=False)\n",
    "\n",
    "# --- Goalies: score everyone in the combined dataset ---\n",
    "gl_name = pick_name(gdf)\n",
    "X_all_gl = gdf[[*X_g.columns]]\n",
    "proba_gl = gl_pipe.predict_proba(X_all_gl)[:, 1]\n",
    "pred_gl = (proba_gl >= gl_thr).astype(int)\n",
    "gl_out = pd.DataFrame({\n",
    "    \"prob_above_median_sv\": proba_gl,\n",
    "    \"pred_above_median_sv\": pred_gl\n",
    "}, index=gdf.index)\n",
    "if gl_name:\n",
    "    gl_out.insert(0, gl_name, gdf[gl_name].values)\n",
    "if \"Team\" in gdf.columns:\n",
    "    gl_out.insert(1, \"Team\", gdf[\"Team\"].values)\n",
    "gl_out.sort_values(\"prob_above_median_sv\", ascending=False, inplace=True)\n",
    "gl_out.to_csv(\"reports/goalie_predictions.csv\", index=False)\n",
    "\n",
    "print(\"Wrote:\")\n",
    "print(\" - reports/skater_predictions.csv\")\n",
    "print(\" - reports/goalie_predictions.csv\")\n",
    "print(f\"Using tuned thresholds: skaters={sk_thr:.2f}, goalies={gl_thr:.2f}\")\n"
   ]
  },
  {
   "cell_type": "markdown",
   "id": "28e5c80f",
   "metadata": {},
   "source": [
    "## Write Up scaffold"
   ]
  },
  {
   "cell_type": "code",
   "execution_count": null,
   "id": "53470392",
   "metadata": {},
   "outputs": [
    {
     "name": "stdout",
     "output_type": "stream",
     "text": [
      "Wrote reports/portfolio_writeup.md\n"
     ]
    }
   ],
   "source": [
    "# Create reports/portfolio_writeup.md from saved results\n",
    "\n",
    "import json, numpy as np, pathlib, textwrap\n",
    "from joblib import load\n",
    "\n",
    "sk = json.load(open(\"reports/skaters_summary.json\"))\n",
    "gl = json.load(open(\"reports/goalies_summary.json\"))\n",
    "\n",
    "# Load trained pipelines to pull top features\n",
    "sk_pipe = load(\"artifacts/skaters_best_pipeline.joblib\")\n",
    "gl_pipe = load(\"artifacts/goalies_best_pipeline.joblib\")\n",
    "\n",
    "# --- Skaters top features (LogReg coefficients) ---\n",
    "top_sk = []\n",
    "try:\n",
    "    prep = sk_pipe.named_steps[\"prep\"]; clf = sk_pipe.named_steps[\"clf\"]\n",
    "    num_cols = prep.transformers_[0][2]\n",
    "    ohe = prep.transformers_[1][1][\"onehot\"]; cat_cols = prep.transformers_[1][2]\n",
    "    cat_names = ohe.get_feature_names_out(cat_cols) if len(cat_cols) else np.array([])\n",
    "    feat_names = np.r_[num_cols, cat_names]\n",
    "    coefs = clf.coef_[0]\n",
    "    idx = np.argsort(coefs)[-8:][::-1]\n",
    "    top_sk = [(feat_names[i], float(coefs[i])) for i in idx]\n",
    "except Exception:\n",
    "    top_sk = [(\"n/a\", 0.0)]\n",
    "\n",
    "# --- Goalies top features (RF importances) ---\n",
    "top_gl = []\n",
    "try:\n",
    "    prep_g = gl_pipe.named_steps[\"prep\"]; clf_g = gl_pipe.named_steps[\"clf\"]\n",
    "    num_cols_g = prep_g.transformers_[0][2]\n",
    "    ohe_g = prep_g.transformers_[1][1][\"onehot\"]; cat_cols_g = prep_g.transformers_[1][2]\n",
    "    cat_names_g = ohe_g.get_feature_names_out(cat_cols_g) if len(cat_cols_g) else np.array([])\n",
    "    feat_names_g = np.r_[num_cols_g, cat_names_g]\n",
    "    imps = clf_g.feature_importances_\n",
    "    idx = np.argsort(imps)[-8:][::-1]\n",
    "    top_gl = [(feat_names_g[i], float(imps[i])) for i in idx]\n",
    "except Exception:\n",
    "    top_gl = [(\"n/a\", 0.0)]\n",
    "\n",
    "md = f\"\"\"\n",
    "# Fantasy Hockey Classification — Proof of Concept\n",
    "\n",
    "## Objective\n",
    "- **Skaters:** predict whether a player reaches **≥ 20 goals** (binary).\n",
    "- **Goalies:** predict whether **save% ≥ seasonal median** (binary).\n",
    "\n",
    "## Data & Cleaning\n",
    "- Combined multiple seasons; removed duplicates; standardized team/position text.\n",
    "- Engineered **per-60/per-game** rates and usage shares (PP/SH); goalie **win_rate**.\n",
    "- Filled missing values with **median/mode imputation**.\n",
    "- **Leak-guarded**: excluded targets and direct derivatives (e.g., `Goals`, EVG/PPG/SHG, `SV%`, `GAA`, `GSAA`).\n",
    "\n",
    "## Modeling\n",
    "- Pipelines: RobustScaler (numeric) + OneHotEncoder (categorical) → classifier.\n",
    "- Models compared: Logistic Regression, KNN, SVM (RBF), Random Forest.\n",
    "- Stratified 75/25 train/test split; best model chosen by **F1**; threshold tuned via PR curve.\n",
    "\n",
    "## Results (Test)\n",
    "**Skaters — Best:** {sk['best_model']}  \n",
    "AUC **{sk['metrics_default']['roc_auc']:.3f}**, F1 **{sk['metrics_default']['f1']:.3f}** @0.50  \n",
    "Tuned threshold **{sk['best_threshold']:.2f}** → F1 **{sk['metrics_tuned']['f1']:.3f}**  \n",
    "See: `figures/skaters_roc.png`, `figures/skaters_confusion_default.png`\n",
    "\n",
    "**Goalies — Best:** {gl['best_model']}  \n",
    "AUC **{gl['metrics_default']['roc_auc']:.3f}**, F1 **{gl['metrics_default']['f1']:.3f}** @0.50  \n",
    "Tuned threshold **{gl['best_threshold']:.2f}** → F1 **{gl['metrics_tuned']['f1']:.3f}**  \n",
    "See: `figures/goalies_roc.png`, `figures/goalies_confusion_default.png`\n",
    "\n",
    "## Feature Signals\n",
    "**Skaters (top +coef):**\n",
    "{chr(10).join([f\"- {n}: {v:.3f}\" for n,v in top_sk])}\n",
    "\n",
    "**Goalies (top importances):**\n",
    "{chr(10).join([f\"- {n}: {v:.3f}\" for n,v in top_gl])}\n",
    "\n",
    "## Takeaways\n",
    "- Usage/rate metrics (e.g., SOG_per60, PP_share) drive 20-goal probability.\n",
    "- Without SV%-derived stats, goalie performance is moderate—expected for this target.\n",
    "- Clean, reproducible **classification pipeline** suitable for portfolio inclusion.\n",
    "\n",
    "## Next Steps\n",
    "- Predict **next season** (t+1) from season t features.\n",
    "- Small grid search (RF depth/leaves; SVM C/γ) with cross-validation.\n",
    "- Enrich data (injuries, PP1 exposure, linemates, schedule strength).\n",
    "\"\"\"\n",
    "pathlib.Path(\"reports/portfolio_writeup.md\").write_text(textwrap.dedent(md).strip()+\"\\n\", encoding=\"utf-8\")\n",
    "print(\"Wrote reports/portfolio_writeup.md\")\n"
   ]
  },
  {
   "cell_type": "code",
   "execution_count": null,
   "id": "f2272449",
   "metadata": {},
   "outputs": [],
   "source": []
  }
 ],
 "metadata": {
  "kernelspec": {
   "display_name": ".venv",
   "language": "python",
   "name": "python3"
  },
  "language_info": {
   "codemirror_mode": {
    "name": "ipython",
    "version": 3
   },
   "file_extension": ".py",
   "mimetype": "text/x-python",
   "name": "python",
   "nbconvert_exporter": "python",
   "pygments_lexer": "ipython3",
   "version": "3.11.5"
  }
 },
 "nbformat": 4,
 "nbformat_minor": 5
}
